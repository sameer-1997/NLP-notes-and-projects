{
 "cells": [
  {
   "cell_type": "markdown",
   "metadata": {},
   "source": [
    "# TEXT SUMMARIZATION USING SUMY & PYTHON\n",
    "\n",
    "- pip install sumy\n",
    "\n",
    "- Sumy offers several algorithms and methods for summarization such as:\n",
    "    - Luhn – heurestic method\n",
    "    - Latent Semantic Analysis\n",
    "    - Edmundson heurestic method with previous statistic research\n",
    "    - LexRank – Unsupervised approach inspired by algorithms PageRank and HITS\n",
    "    - TextRank\n",
    "    - SumBasic – Method that is often used as a baseline in the literature\n",
    "    - KL-Sum – Method that greedily adds sentences to a summary so long as it decreases the KL Divergence."
   ]
  },
  {
   "cell_type": "code",
   "execution_count": 40,
   "metadata": {},
   "outputs": [],
   "source": [
    "from sumy.parsers.html import HtmlParser\n",
    "from sumy.parsers.plaintext import PlaintextParser\n",
    "\n",
    "from sumy.summarizers.lsa import LsaSummarizer \n",
    "from sumy.summarizers.luhn import LuhnSummarizer\n",
    "from sumy.summarizers.lex_rank import LexRankSummarizer\n",
    "from sumy.summarizers.text_rank import TextRankSummarizer\n",
    "\n",
    "from sumy.nlp.tokenizers import Tokenizer\n",
    "from sumy.nlp.stemmers import Stemmer\n",
    "from sumy.utils import get_stop_words"
   ]
  },
  {
   "cell_type": "markdown",
   "metadata": {},
   "source": [
    "## LsaSummarizer\n",
    "\n",
    "Latent Semantic Analysis which combines term frequency with singular value decomposition."
   ]
  },
  {
   "cell_type": "code",
   "execution_count": 42,
   "metadata": {},
   "outputs": [],
   "source": [
    "document =\"\"\"Machine learning (ML) is the scientific study of algorithms and \n",
    "statistical models that computer systems use to progressively improve their performance on a specific task. \n",
    "Machine learning algorithms build a mathematical model of sample data, known as \"training data\", in order \n",
    "to make predictions or decisions without being explicitly programmed to perform the task. Machine learning \n",
    "algorithms are used in the applications of email filtering, detection of network intruders, and computer \n",
    "vision, where it is infeasible to develop an algorithm of specific instructions for performing the task. \n",
    "Machine learning is closely related to computational statistics, which focuses on making predictions using \n",
    "computers. The study of mathematical optimization delivers methods, theory and application domains to the \n",
    "field of machine learning. Data mining is a field of study within machine learning, and focuses on \n",
    "exploratory data analysis through unsupervised learning.In its application across business problems, \n",
    "machine learning is also referred to as predictive analytics.\"\"\""
   ]
  },
  {
   "cell_type": "code",
   "execution_count": 60,
   "metadata": {},
   "outputs": [],
   "source": [
    "url_wiki = \"https://en.wikipedia.org/wiki/Automatic_summarization\"\n",
    "url_npa  = \"https://corporatefinanceinstitute.com/resources/knowledge/other/non-performing-assets-in-indian-banks/\"\n",
    "url_covid = \"https://en.wikipedia.org/wiki/Coronavirus_disease_2019\""
   ]
  },
  {
   "cell_type": "code",
   "execution_count": 64,
   "metadata": {},
   "outputs": [],
   "source": [
    "LANGUAGE = \"english\"\n",
    "SENTENCES_COUNT = 10"
   ]
  },
  {
   "cell_type": "code",
   "execution_count": 61,
   "metadata": {},
   "outputs": [],
   "source": [
    "# from url\n",
    "parser_url_wiki = HtmlParser.from_url(url_wiki, Tokenizer(LANGUAGE))\n",
    "parser_url_npa  = HtmlParser.from_url(url_npa,  Tokenizer(LANGUAGE))\n",
    "parser_url_covid  = HtmlParser.from_url(url_covid,  Tokenizer(LANGUAGE))"
   ]
  },
  {
   "cell_type": "code",
   "execution_count": 62,
   "metadata": {},
   "outputs": [
    {
     "name": "stdout",
     "output_type": "stream",
     "text": [
      "<DOM with 60 paragraphs>\n",
      "<DOM with 12 paragraphs>\n",
      "<DOM with 87 paragraphs>\n"
     ]
    }
   ],
   "source": [
    "print(parser_url_wiki.document)\n",
    "print(parser_url_npa.document)\n",
    "print(parser_url_covid.document)"
   ]
  },
  {
   "cell_type": "code",
   "execution_count": 55,
   "metadata": {},
   "outputs": [],
   "source": [
    "# from strings\n",
    "parser_string = PlaintextParser.from_string(document, Tokenizer(LANGUAGE))"
   ]
  },
  {
   "cell_type": "code",
   "execution_count": 56,
   "metadata": {},
   "outputs": [],
   "source": [
    "stemmer = Stemmer(LANGUAGE)"
   ]
  },
  {
   "cell_type": "code",
   "execution_count": 57,
   "metadata": {},
   "outputs": [],
   "source": [
    "summ = LsaSummarizer(stemmer)\n",
    "summ.stop_words = get_stop_words(LANGUAGE)"
   ]
  },
  {
   "cell_type": "code",
   "execution_count": 65,
   "metadata": {},
   "outputs": [
    {
     "name": "stdout",
     "output_type": "stream",
     "text": [
      "-----------------------------------------------------------------------------------\n",
      "Infection appears to set off a chain of vasoconstrictive responses within the body, constriction of blood vessels within the pulmonary circulation has also been posited as a mechanism in which oxygenation decreases alongside the presentation of viral pneumonia.\n",
      "-----------------------------------------------------------------------------------\n",
      "[104] Chinese scientists were able to isolate a strain of the coronavirus and publish the genetic sequence so laboratories across the world could independently develop polymerase chain reaction (PCR) tests to detect infection by the virus.\n",
      "-----------------------------------------------------------------------------------\n",
      "This graphic shows how early adoption of containment measures tends to protect wider swaths of the population.Progressively stronger mitigation efforts to reduce the number of active cases at any given time—\" flattening the curve \"—allows healthcare services to better manage the same volume of patients.\n",
      "-----------------------------------------------------------------------------------\n",
      "The US Centers for Disease Control and Prevention (CDC) and the World Health Organization (WHO) recommend individuals wear non-medical face coverings in public settings where there is an increased risk of transmission and where social distancing measures are difficult to maintain.\n",
      "-----------------------------------------------------------------------------------\n",
      "[329] Structural factors that prevent African Americans from practicing social distancing include their concentration in crowded substandard housing and in \"essential\" occupations such as public transit and health care.\n",
      "-----------------------------------------------------------------------------------\n",
      "In June, initial results from a randomised trial in the United Kingdom showed that dexamethasone reduced mortality by one third for patients who are critically ill on ventilators and one fifth for those receiving supplemental oxygen.\n",
      "-----------------------------------------------------------------------------------\n",
      "^ Deeks, Jonathan J.; Dinnes, Jacqueline; Takwoingi, Yemisi; Davenport, Clare; Spijker, René; Taylor-Phillips, Sian; Adriano, Ada; Beese, Sophie; Dretzke, Janine; Ferrante di Ruffano, Lavinia; Harris, Isobel M. (25 June 2020).\n",
      "-----------------------------------------------------------------------------------\n",
      "^ Struyf, Thomas; Deeks, Jonathan J.; Dinnes, Jacqueline; Takwoingi, Yemisi; Davenport, Clare; Leeflang, Mariska Mg; Spijker, René; Hooft, Lotty; Emperador, Devy; Dittrich, Sabine; Domen, Julie (2020).\n",
      "-----------------------------------------------------------------------------------\n",
      "^ Cowling, Benjamin J.; Ali, Sheikh Taslim; Ng, Tiffany W. Y.; Tsang, Tim K.; Li, Julian C. M.; Fong, Min Whui; Liao, Qiuyan; Kwan, Mike YW; Lee, So Lun; Chiu, Susan S.; Wu, Joseph T. (1 May 2020).\n",
      "-----------------------------------------------------------------------------------\n",
      "^ a b Piechotta, Vanessa; Chai, Khai Li; Valk, Sarah J.; Doree, Carolyn; Monsef, Ina; Wood, Erica M.; Lamikanra, Abigail; Kimber, Catherine; McQuilten, Zoe; So-Osman, Cynthia; Estcourt, Lise J.\n"
     ]
    }
   ],
   "source": [
    "# for the wiki text\n",
    "for sentence in summ(parser_url_covid.document, SENTENCES_COUNT):\n",
    "    print(\"-----------------------------------------------------------------------------------\")\n",
    "    print(sentence)"
   ]
  },
  {
   "cell_type": "code",
   "execution_count": 58,
   "metadata": {},
   "outputs": [
    {
     "name": "stdout",
     "output_type": "stream",
     "text": [
      "-----------------------------------------------------------------------------------\n",
      "Some techniques and algorithms which naturally model summarization problems are TextRank and PageRank, Submodular set function , Determinantal point process , maximal marginal relevance (MMR) etc.\n",
      "-----------------------------------------------------------------------------------\n",
      "\"The Army Corps of Engineers, rushing to meet President Bush's promise to protect New Orleans by the start of the 2006 hurricane season, installed defective flood-control pumps last year despite warnings from its own expert that the equipment would fail during a storm, according to documents obtained by The Associated Press\".\n",
      "-----------------------------------------------------------------------------------\n",
      "LexRank deals with diversity as a heuristic final stage using CSIS, and other systems have used similar methods, such as Maximal Marginal Relevance (MMR), [12] in trying to eliminate redundancy in information retrieval results.\n",
      "-----------------------------------------------------------------------------------\n",
      "^ Sebastian Tschiatschek, Rishabh Iyer, Hoachen Wei and Jeff Bilmes, Learning Mixtures of Submodular Functions for Image Collection Summarization , In Advances of Neural Information Processing Systems (NIPS), Montreal, Canada, December - 2014.\n",
      "-----------------------------------------------------------------------------------\n",
      ", Published in Proceeding RIAO'10 Adaptivity, Personalization and Fusion of Heterogeneous Information, CID Paris, France Xiaojin, Zhu, Andrew Goldberg, Jurgen Van Gael, and David Andrzejewski (2007).\n"
     ]
    }
   ],
   "source": [
    "# for the wiki text\n",
    "for sentence in summ(parser_url_wiki.document, SENTENCES_COUNT):\n",
    "    print(\"-----------------------------------------------------------------------------------\")\n",
    "    print(sentence)"
   ]
  },
  {
   "cell_type": "code",
   "execution_count": 59,
   "metadata": {},
   "outputs": [
    {
     "name": "stdout",
     "output_type": "stream",
     "text": [
      "-----------------------------------------------------------------------------------\n",
      "The situation became serious with the substantial delay in environmental permits, affecting the infrastructure sector – power, iron, and steel – resulting in volatility in prices of raw materials and a shortage of supply.\n",
      "-----------------------------------------------------------------------------------\n",
      "Another reason is the relaxed lending norms adopted by banks, especially to the big corporate houses, foregoing analysis of their financials and credit ratings.\n",
      "-----------------------------------------------------------------------------------\n",
      "More “Haircuts” for Banks – For quite some time, PSU lenders have started putting aside a large portion of their profits for provisions and losses because of NPA.\n",
      "-----------------------------------------------------------------------------------\n",
      "Refinancing from the Central Bank – The US Federal Reserve spent $700 billion to purchase stressed assets in 2008-09 under the “Troubled Asset Relief Program.” Indian banks can adopt a similar arrangement by involving the RBI directly or through the creation of a Special Purpose Vehicle (SPV).\n",
      "-----------------------------------------------------------------------------------\n",
      "This guide will discuss the balance sheet and income statement line items most banks have, along with examples of how they work\n"
     ]
    }
   ],
   "source": [
    "# for NPA text\n",
    "for sentence in summ(parser_url_npa.document, SENTENCES_COUNT):\n",
    "    print(\"-----------------------------------------------------------------------------------\")\n",
    "    print(sentence)\n",
    "    \n"
   ]
  },
  {
   "cell_type": "code",
   "execution_count": null,
   "metadata": {},
   "outputs": [],
   "source": []
  },
  {
   "cell_type": "code",
   "execution_count": null,
   "metadata": {},
   "outputs": [],
   "source": []
  }
 ],
 "metadata": {
  "kernelspec": {
   "display_name": "Python 3",
   "language": "python",
   "name": "python3"
  },
  "language_info": {
   "codemirror_mode": {
    "name": "ipython",
    "version": 3
   },
   "file_extension": ".py",
   "mimetype": "text/x-python",
   "name": "python",
   "nbconvert_exporter": "python",
   "pygments_lexer": "ipython3",
   "version": "3.6.10"
  }
 },
 "nbformat": 4,
 "nbformat_minor": 4
}
