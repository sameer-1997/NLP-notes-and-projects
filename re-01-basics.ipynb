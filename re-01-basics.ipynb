{
 "cells": [
  {
   "cell_type": "markdown",
   "metadata": {},
   "source": [
    "The Python \"re\" module provides regular expression support.\n",
    "\n",
    "In Python a regular expression search is typically written as\n",
    "\n",
    "** Using r prefix before RegEx **\n",
    "\n",
    "- When r or R prefix is used before a regular expression, it means raw string. For example, '\\n' is a new line whereas r'\\n' means two characters: a backslash \\ followed by n.\n",
    "\n",
    "- Backlash \\ is used to escape various characters including all metacharacters. However, using r prefix makes \\ treat as a normal character.\n"
   ]
  },
  {
   "cell_type": "markdown",
   "metadata": {},
   "source": [
    "#### Wild Card Characters: Special Characters\n",
    "\n",
    "    . A period. Matches any single character except newline character."
   ]
  },
  {
   "cell_type": "code",
   "execution_count": 47,
   "metadata": {},
   "outputs": [],
   "source": [
    "import re"
   ]
  },
  {
   "cell_type": "markdown",
   "metadata": {},
   "source": [
    "# re.match\n",
    "\n",
    " it will only find matches if they occur at the start of the string being searched. Otherwise it returns None. "
   ]
  },
  {
   "cell_type": "markdown",
   "metadata": {},
   "source": [
    "find all the alphabet letter, both uppercase and lowercase"
   ]
  },
  {
   "cell_type": "code",
   "execution_count": 48,
   "metadata": {},
   "outputs": [
    {
     "name": "stdout",
     "output_type": "stream",
     "text": [
      "Match!\n"
     ]
    }
   ],
   "source": [
    "# exact matches:\n",
    "\n",
    "pattern = r\"Cookie\"\n",
    "sequence = \"Cookie\"\n",
    "\n",
    "if re.match(pattern, sequence):\n",
    "    print(\"Match!\")\n",
    "else: \n",
    "    print(\"Not a match!\")"
   ]
  },
  {
   "cell_type": "code",
   "execution_count": 49,
   "metadata": {},
   "outputs": [
    {
     "name": "stdout",
     "output_type": "stream",
     "text": [
      "<re.Match object; span=(0, 6), match='Thhhhe'>\n"
     ]
    }
   ],
   "source": [
    "input_str = \"Thhhhe film Titanic was released in 1998\"  \n",
    "\n",
    "result = re.match(r\"[a-zA-Z]+\", input_str)  \n",
    "\n",
    "print(result)"
   ]
  },
  {
   "cell_type": "markdown",
   "metadata": {},
   "source": [
    "This regex expression states that match the text string for any alphabets from small a to small z or capital A to capital Z. The plus sign specifies that string should have at least one character\n",
    "\n",
    "In the output, you can see that the first word i.e. The is returned. This is because the match function only returns the first match found"
   ]
  },
  {
   "cell_type": "code",
   "execution_count": 4,
   "metadata": {},
   "outputs": [
    {
     "name": "stdout",
     "output_type": "stream",
     "text": [
      "None\n"
     ]
    }
   ],
   "source": [
    "input_str = \"1998 The film Titanic was released in 1998\"  \n",
    "\n",
    "result = re.match(r\"[a-zA-Z]+\", input_str)  \n",
    "\n",
    "print(result)"
   ]
  },
  {
   "cell_type": "markdown",
   "metadata": {},
   "source": [
    "if a string starts with a number instead of an alphabet, the match function will return null even if there are alphabets after the number. since match function only matches the first element in the string."
   ]
  },
  {
   "cell_type": "code",
   "execution_count": 5,
   "metadata": {},
   "outputs": [
    {
     "data": {
      "text/plain": [
       "<re.Match object; span=(0, 3), match='dog'>"
      ]
     },
     "execution_count": 5,
     "metadata": {},
     "output_type": "execute_result"
    }
   ],
   "source": [
    "re.match(r'dog', 'dog cat dog')"
   ]
  },
  {
   "cell_type": "code",
   "execution_count": 6,
   "metadata": {},
   "outputs": [
    {
     "data": {
      "text/plain": [
       "'dog'"
      ]
     },
     "execution_count": 6,
     "metadata": {},
     "output_type": "execute_result"
    }
   ],
   "source": [
    "match = re.match(r'dog', 'dog cat dog')\n",
    "match.group(0)"
   ]
  },
  {
   "cell_type": "code",
   "execution_count": 7,
   "metadata": {},
   "outputs": [
    {
     "data": {
      "text/plain": [
       "'dog'"
      ]
     },
     "execution_count": 7,
     "metadata": {},
     "output_type": "execute_result"
    }
   ],
   "source": [
    "match.group()"
   ]
  },
  {
   "cell_type": "markdown",
   "metadata": {},
   "source": [
    "But, if we call match() on the same string, looking for the pattern ‘cat’, we won’t:"
   ]
  },
  {
   "cell_type": "code",
   "execution_count": 8,
   "metadata": {},
   "outputs": [],
   "source": [
    "match = re.match(r'cat', 'dog cat dog')\n",
    "match"
   ]
  },
  {
   "cell_type": "markdown",
   "metadata": {},
   "source": [
    "# re.search(pat, str)"
   ]
  },
  {
   "cell_type": "markdown",
   "metadata": {},
   "source": [
    "Scan through string looking for the first location where the regular expression pattern produces a match, and return a corresponding MatchObject instance. Return None if no position in the string matches the pattern;\n",
    "\n",
    "The search() method is similar to match(), but search() doesn’t restrict us to only finding matches at the beginning of the string, so searching for ‘cat’ in our example string finds a match:\n",
    "\n",
    "** \\w **\n",
    "- matches any alphanumeric character and the underscore; \n",
    "- this is equivalent to the set [a-zA-Z0-9_].\n",
    "\n",
    "** \\W **\n",
    "\n",
    "- matches any non-alphanumeric character; \n",
    "- this is equivalent to the set [^a-zA-Z0-9_]. \n",
    "\n",
    "\n",
    "    \\w - Lowercase w. Matches any single letter, digit or underscore.\n",
    "    \\W - Uppercase w. Matches any character not part of \\w (lowercase w).\n",
    "    \\s - Lowercase s. Matches a single whitespace character like: space, newline, tab, return.\n",
    "    \\S - Uppercase s. Matches any character not part of \\s (lowercase s).\n",
    "    \\t - Lowercase t. Matches tab.\n",
    "    \\n - Lowercase n. Matches newline.\n",
    "    \\r - Lowercase r. Matches return.\n",
    "    \\d - Lowercase d. Matches decimal digit 0-9.\n",
    "    ^ - Caret. Matches a pattern at the start of the string.\n",
    "    $ - Matches a pattern at the end of string.\n",
    "    [abc] - Matches a or b or c.\n",
    "    \\A - Uppercase a. Matches only at the start of the string. Works across multiple lines as well.\n",
    "    \\b - Lowercase b. Matches only the beginning or end of the word.\n",
    "    "
   ]
  },
  {
   "cell_type": "code",
   "execution_count": 9,
   "metadata": {},
   "outputs": [
    {
     "data": {
      "text/plain": [
       "'c00kie'"
      ]
     },
     "execution_count": 9,
     "metadata": {},
     "output_type": "execute_result"
    }
   ],
   "source": [
    "# The group() function returns the string matched by the re\n",
    "re.search(r'c\\d\\dkie', 'c00kie').group()"
   ]
  },
  {
   "cell_type": "code",
   "execution_count": 10,
   "metadata": {},
   "outputs": [
    {
     "data": {
      "text/plain": [
       "<re.Match object; span=(0, 6), match='Cookie'>"
      ]
     },
     "execution_count": 10,
     "metadata": {},
     "output_type": "execute_result"
    }
   ],
   "source": [
    "re.search(r'Co\\wk\\we', 'Cookie')"
   ]
  },
  {
   "cell_type": "code",
   "execution_count": 11,
   "metadata": {},
   "outputs": [],
   "source": [
    "re.search(r'Co\\wk\\we', 'Coo78788kie')"
   ]
  },
  {
   "cell_type": "code",
   "execution_count": 12,
   "metadata": {},
   "outputs": [
    {
     "data": {
      "text/plain": [
       "<re.Match object; span=(0, 4), match='C@ke'>"
      ]
     },
     "execution_count": 12,
     "metadata": {},
     "output_type": "execute_result"
    }
   ],
   "source": [
    "re.search(r'C\\Wke', 'C@ke')"
   ]
  },
  {
   "cell_type": "code",
   "execution_count": 13,
   "metadata": {},
   "outputs": [
    {
     "data": {
      "text/plain": [
       "<re.Match object; span=(0, 8), match='Eat cake'>"
      ]
     },
     "execution_count": 13,
     "metadata": {},
     "output_type": "execute_result"
    }
   ],
   "source": [
    "re.search(r'Eat\\scake', 'Eat cake')"
   ]
  },
  {
   "cell_type": "code",
   "execution_count": 14,
   "metadata": {},
   "outputs": [
    {
     "data": {
      "text/plain": [
       "'Cookie'"
      ]
     },
     "execution_count": 14,
     "metadata": {},
     "output_type": "execute_result"
    }
   ],
   "source": [
    "re.search(r'Cook\\Se', 'Cookie').group()"
   ]
  },
  {
   "cell_type": "code",
   "execution_count": 15,
   "metadata": {},
   "outputs": [],
   "source": [
    "re.search(r'Eat\\tcake', 'Eat  cake')"
   ]
  },
  {
   "cell_type": "markdown",
   "metadata": {},
   "source": [
    "\\d - Lowercase d. Matches decimal digit 0-9."
   ]
  },
  {
   "cell_type": "code",
   "execution_count": 16,
   "metadata": {},
   "outputs": [
    {
     "data": {
      "text/plain": [
       "'c00kie'"
      ]
     },
     "execution_count": 16,
     "metadata": {},
     "output_type": "execute_result"
    }
   ],
   "source": [
    "re.search(r'c\\d\\dkie', 'c00kie').group()"
   ]
  },
  {
   "cell_type": "markdown",
   "metadata": {},
   "source": [
    "^ - Caret. Matches a pattern at the start of the string."
   ]
  },
  {
   "cell_type": "code",
   "execution_count": 17,
   "metadata": {},
   "outputs": [
    {
     "data": {
      "text/plain": [
       "'Eat'"
      ]
     },
     "execution_count": 17,
     "metadata": {},
     "output_type": "execute_result"
    }
   ],
   "source": [
    "re.search(r'^Eat', 'Eat cake').group()"
   ]
  },
  {
   "cell_type": "markdown",
   "metadata": {},
   "source": [
    "$ - Matches a pattern at the end of string."
   ]
  },
  {
   "cell_type": "code",
   "execution_count": 18,
   "metadata": {},
   "outputs": [
    {
     "data": {
      "text/plain": [
       "'cake'"
      ]
     },
     "execution_count": 18,
     "metadata": {},
     "output_type": "execute_result"
    }
   ],
   "source": [
    "re.search(r'cake$', 'Eat cake').group()"
   ]
  },
  {
   "cell_type": "markdown",
   "metadata": {},
   "source": [
    "[abc] - Matches a or b or c.\n",
    "\n",
    "[a-zA-Z0-9] - Matches any letter from (a to z) or (A to Z) or (0 to 9). "
   ]
  },
  {
   "cell_type": "code",
   "execution_count": 19,
   "metadata": {},
   "outputs": [
    {
     "data": {
      "text/plain": [
       "'Number: 5'"
      ]
     },
     "execution_count": 19,
     "metadata": {},
     "output_type": "execute_result"
    }
   ],
   "source": [
    "re.search(r'Number: [0-6]', 'Number: 5').group()"
   ]
  },
  {
   "cell_type": "code",
   "execution_count": 20,
   "metadata": {},
   "outputs": [
    {
     "data": {
      "text/plain": [
       "'Number: 0'"
      ]
     },
     "execution_count": 20,
     "metadata": {},
     "output_type": "execute_result"
    }
   ],
   "source": [
    "# Matches any character except 5\n",
    "re.search(r'Number: [^5]', 'Number: 0').group()"
   ]
  },
  {
   "cell_type": "markdown",
   "metadata": {},
   "source": [
    "\\A - Uppercase a. Matches only at the start of the string. Works across multiple lines as well."
   ]
  },
  {
   "cell_type": "code",
   "execution_count": 21,
   "metadata": {},
   "outputs": [
    {
     "data": {
      "text/plain": [
       "'Cookie'"
      ]
     },
     "execution_count": 21,
     "metadata": {},
     "output_type": "execute_result"
    }
   ],
   "source": [
    "re.search(r'\\A[A-E]ookie', 'Cookie').group()"
   ]
  },
  {
   "cell_type": "markdown",
   "metadata": {},
   "source": [
    "\\b - Lowercase b. Matches only the beginning or end of the word."
   ]
  },
  {
   "cell_type": "code",
   "execution_count": 22,
   "metadata": {},
   "outputs": [
    {
     "data": {
      "text/plain": [
       "'Cookie'"
      ]
     },
     "execution_count": 22,
     "metadata": {},
     "output_type": "execute_result"
    }
   ],
   "source": [
    "re.search(r'\\b[A-E]ookie', 'Cookie').group()"
   ]
  },
  {
   "cell_type": "markdown",
   "metadata": {},
   "source": [
    "\\ - Backslash. If the character following the backslash is a recognized escape character, then the special meaning of the term is taken. For example, \\n is considered as newline. However, if the character following the \\ is not a recognized escape character, then the \\ is treated like any other character and passed through."
   ]
  },
  {
   "cell_type": "code",
   "execution_count": 23,
   "metadata": {},
   "outputs": [
    {
     "data": {
      "text/plain": [
       "'Back\\\\stail'"
      ]
     },
     "execution_count": 23,
     "metadata": {},
     "output_type": "execute_result"
    }
   ],
   "source": [
    "# This checks for '\\' in the string instead of '\\t' due to the '\\' used \n",
    "re.search(r'Back\\\\stail', 'Back\\stail').group()"
   ]
  },
  {
   "cell_type": "code",
   "execution_count": 24,
   "metadata": {},
   "outputs": [
    {
     "data": {
      "text/plain": [
       "'Back tail'"
      ]
     },
     "execution_count": 24,
     "metadata": {},
     "output_type": "execute_result"
    }
   ],
   "source": [
    "# This treats '\\s' as an escape character because it lacks '\\' at the start of '\\s'\n",
    "re.search(r'Back\\stail', 'Back tail').group()"
   ]
  },
  {
   "cell_type": "code",
   "execution_count": 25,
   "metadata": {},
   "outputs": [
    {
     "name": "stdout",
     "output_type": "stream",
     "text": [
      "<re.Match object; span=(5, 8), match='was'>\n"
     ]
    }
   ],
   "source": [
    "text   = \"1998 was the year when the film titanic was released\"  \n",
    "result = re.search(r\"[a-zA-z]+\", text)  \n",
    "print(result)  "
   ]
  },
  {
   "cell_type": "code",
   "execution_count": 26,
   "metadata": {},
   "outputs": [
    {
     "data": {
      "text/plain": [
       "<re.Match object; span=(4, 7), match='cat'>"
      ]
     },
     "execution_count": 26,
     "metadata": {},
     "output_type": "execute_result"
    }
   ],
   "source": [
    "re.search(r'cat', 'dog cat dog')"
   ]
  },
  {
   "cell_type": "markdown",
   "metadata": {},
   "source": [
    "The search() method, however, stops looking after it finds a match, so search()-ing for ‘dog’ in our example string only finds the first occurrence:"
   ]
  },
  {
   "cell_type": "code",
   "execution_count": 27,
   "metadata": {},
   "outputs": [
    {
     "data": {
      "text/plain": [
       "'dog'"
      ]
     },
     "execution_count": 27,
     "metadata": {},
     "output_type": "execute_result"
    }
   ],
   "source": [
    "match = re.search(r'dog', 'dog cat dog')\n",
    "match.group(0)"
   ]
  },
  {
   "cell_type": "code",
   "execution_count": 28,
   "metadata": {},
   "outputs": [
    {
     "name": "stdout",
     "output_type": "stream",
     "text": [
      "<re.Match object; span=(0, 8), match='Machines'>\n"
     ]
    }
   ],
   "source": [
    "input_str     = 'Machines Learning is great, Maths is fun 11 22 33 44'\n",
    "search_str    = r'macHineS'\n",
    "\n",
    "search_results = re.search(search_str, input_str, re.IGNORECASE)\n",
    "\n",
    "print(search_results)"
   ]
  },
  {
   "cell_type": "code",
   "execution_count": 29,
   "metadata": {},
   "outputs": [
    {
     "name": "stdout",
     "output_type": "stream",
     "text": [
      "found Machines\n"
     ]
    }
   ],
   "source": [
    "# If-statement after search() tests if it succeeded\n",
    "if search_results:\n",
    "    print ('found', search_results.group()) ## 'found word:cat'\n",
    "else:\n",
    "    print ('did not find')"
   ]
  },
  {
   "cell_type": "markdown",
   "metadata": {},
   "source": [
    "find out if any of the lines begin with a number:"
   ]
  },
  {
   "cell_type": "code",
   "execution_count": 30,
   "metadata": {},
   "outputs": [
    {
     "data": {
      "text/plain": [
       "'1.'"
      ]
     },
     "execution_count": 30,
     "metadata": {},
     "output_type": "execute_result"
    }
   ],
   "source": [
    "text = \"\"\"\n",
    "1. ricochet robots\n",
    "2. settlers of catan\n",
    "3. acquire\n",
    "\"\"\"\n",
    "match = re.search(r'\\d+.', text, re.MULTILINE)\n",
    "match.group()"
   ]
  },
  {
   "cell_type": "markdown",
   "metadata": {},
   "source": [
    "## Repetition\n",
    "\n",
    "    + -- 1 or more occurrences of the pattern to its left, e.g. 'i+' = one or more i's\n",
    "    * -- 0 or more occurrences of the pattern to its left\n",
    "    ? -- match 0 or 1 occurrences of the pattern to its left\n",
    "    \n",
    "Square brackets can be used to indicate a set of chars, so [abc] matches 'a' or 'b' or 'c'. \n",
    "\n",
    "- \\d matches a decimal digit [0-9]"
   ]
  },
  {
   "cell_type": "code",
   "execution_count": 31,
   "metadata": {},
   "outputs": [
    {
     "data": {
      "text/plain": [
       "'Cooookie'"
      ]
     },
     "execution_count": 31,
     "metadata": {},
     "output_type": "execute_result"
    }
   ],
   "source": [
    "re.search(r'Co+kie', 'Cooookie').group()"
   ]
  },
  {
   "cell_type": "code",
   "execution_count": 32,
   "metadata": {},
   "outputs": [
    {
     "data": {
      "text/plain": [
       "'Caokie'"
      ]
     },
     "execution_count": 32,
     "metadata": {},
     "output_type": "execute_result"
    }
   ],
   "source": [
    "# Checks for any occurrence of a or o or both in the given sequence\n",
    "re.search(r'Ca*o*kie', 'Caokie').group()"
   ]
  },
  {
   "cell_type": "code",
   "execution_count": 33,
   "metadata": {},
   "outputs": [
    {
     "data": {
      "text/plain": [
       "'Caokie'"
      ]
     },
     "execution_count": 33,
     "metadata": {},
     "output_type": "execute_result"
    }
   ],
   "source": [
    "# Checks for exactly zero or one occurrence of  a or o or both in the given sequence\n",
    "re.search(r'Ca?o?kie', 'Caokie').group()"
   ]
  },
  {
   "cell_type": "markdown",
   "metadata": {},
   "source": [
    "But what if you want to check for exact number of sequence repetition?\n",
    "\n",
    "For example, checking the validity of a phone number in an application. re module handles this very gracefully as well using the following regular expressions:\n",
    "\n",
    "{x} - Repeat exactly x number of times.\n",
    "\n",
    "{x,} - Repeat at least x times or more.\n",
    "\n",
    "{x, y} - Repeat at least x times but no more than y times."
   ]
  },
  {
   "cell_type": "code",
   "execution_count": 34,
   "metadata": {},
   "outputs": [
    {
     "data": {
      "text/plain": [
       "<re.Match object; span=(0, 4), match='1234'>"
      ]
     },
     "execution_count": 34,
     "metadata": {},
     "output_type": "execute_result"
    }
   ],
   "source": [
    "re.search(r'\\d{2,4}', '1234')"
   ]
  },
  {
   "cell_type": "code",
   "execution_count": 35,
   "metadata": {},
   "outputs": [
    {
     "name": "stdout",
     "output_type": "stream",
     "text": [
      "<re.Match object; span=(0, 26), match='abcdefghijklmnopqrstuvwxyz'>\n",
      "<re.Match object; span=(0, 0), match=''>\n"
     ]
    }
   ],
   "source": [
    "input_string = 'abcdefghijklmnopqrstuvwxyz1234567890'\n",
    "print (re.search('[a-z]*', input_string))\n",
    "\n",
    "input_string = ' abcdefghijklmnopqrstuvwxyz1234567890'\n",
    "print (re.search('[a-z]*', input_string))"
   ]
  },
  {
   "cell_type": "markdown",
   "metadata": {},
   "source": [
    "    - * repeats the previous token zero or more times ie, it would match an empty string which exists before each non-matching characters. First [a-z]* returns abcdefghijklmnopqrstuvwxyz because this substring was located at the start.\n",
    "    \n",
    "    - If the input is like ' abcdefghijklmnopqrstuvwxyz', it would return an empty string. \n",
    "    \n",
    "    - This behaviour is because of re.search function, where it stops after finding the first match."
   ]
  },
  {
   "cell_type": "code",
   "execution_count": 36,
   "metadata": {},
   "outputs": [
    {
     "name": "stdout",
     "output_type": "stream",
     "text": [
      "<re.Match object; span=(26, 36), match='1234567890'>\n"
     ]
    }
   ],
   "source": [
    "input_string = 'abcdefghijklmnopqrstuvwxyz1234567890'\n",
    "print (re.search(r'[0-9]+', input_string))"
   ]
  },
  {
   "cell_type": "code",
   "execution_count": 37,
   "metadata": {},
   "outputs": [
    {
     "data": {
      "text/plain": [
       "<re.Match object; span=(26, 27), match='1'>"
      ]
     },
     "execution_count": 37,
     "metadata": {},
     "output_type": "execute_result"
    }
   ],
   "source": [
    "# first matching digit\n",
    "input_string = 'abcdefghijklmnopqrstuvwxyz1234567890'\n",
    "re.search(r'[0-9]', input_string)"
   ]
  },
  {
   "cell_type": "code",
   "execution_count": 38,
   "metadata": {},
   "outputs": [
    {
     "data": {
      "text/plain": [
       "<re.Match object; span=(0, 0), match=''>"
      ]
     },
     "execution_count": 38,
     "metadata": {},
     "output_type": "execute_result"
    }
   ],
   "source": [
    "# 0 or more occurrences of a digit\n",
    "input_string = 'abcdefghijklmnopqrstuvwxyz1234567890'\n",
    "re.search(r'[0-9]*', input_string)"
   ]
  },
  {
   "cell_type": "markdown",
   "metadata": {},
   "source": [
    "re.search stops after finding the first match. \n",
    "\n",
    "Here a is not matched by [0-9] but [0-9]* matches the empty string which exists before a because * would repeat the previous token zero or more times. \n",
    "\n",
    "That's why we got an empty string as output "
   ]
  },
  {
   "cell_type": "code",
   "execution_count": 39,
   "metadata": {},
   "outputs": [
    {
     "data": {
      "text/plain": [
       "<re.Match object; span=(0, 0), match=''>"
      ]
     },
     "execution_count": 39,
     "metadata": {},
     "output_type": "execute_result"
    }
   ],
   "source": [
    "# 0 or 1 occurrences of a digit\n",
    "input_string = 'abcdefghijklmnopqrstuvwxyz1234567890'\n",
    "re.search(r'[0-9]?', input_string)"
   ]
  },
  {
   "cell_type": "code",
   "execution_count": 40,
   "metadata": {},
   "outputs": [
    {
     "data": {
      "text/plain": [
       "<re.Match object; span=(0, 4), match='piii'>"
      ]
     },
     "execution_count": 40,
     "metadata": {},
     "output_type": "execute_result"
    }
   ],
   "source": [
    "## i+ = one or more i's, as many as possible.\n",
    "re.search(r'pi+', 'piiig') # found, match.group() == \"piii\""
   ]
  },
  {
   "cell_type": "code",
   "execution_count": 41,
   "metadata": {},
   "outputs": [
    {
     "data": {
      "text/plain": [
       "<re.Match object; span=(1, 3), match='ii'>"
      ]
     },
     "execution_count": 41,
     "metadata": {},
     "output_type": "execute_result"
    }
   ],
   "source": [
    "## Finds the first/leftmost solution, and within it drives the +\n",
    "## as far as possible (aka 'leftmost and largest').\n",
    "## In this example, note that it does not get to the second set of i's.\n",
    "re.search(r'i+', 'piigiiii') # found, match.group() == \"ii\""
   ]
  },
  {
   "cell_type": "code",
   "execution_count": 42,
   "metadata": {},
   "outputs": [
    {
     "name": "stdout",
     "output_type": "stream",
     "text": [
      "<re.Match object; span=(2, 9), match='1 2   3'>\n",
      "<re.Match object; span=(2, 7), match='12  3'>\n",
      "<re.Match object; span=(2, 5), match='123'>\n"
     ]
    }
   ],
   "source": [
    "## \\s* = zero or more whitespace chars\n",
    "## Here look for 3 digits, possibly separated by whitespace.\n",
    "print(re.search(r'\\d\\s*\\d\\s*\\d', 'xx1 2   3xx')) # found, match.group() == \"1 2   3\"\n",
    "print(re.search(r'\\d\\s*\\d\\s*\\d', 'xx12  3xx') )  # found, match.group() == \"12  3\"\n",
    "print(re.search(r'\\d\\s*\\d\\s*\\d', 'xx123xx   ') )    # found, match.group() == \"123\""
   ]
  },
  {
   "cell_type": "code",
   "execution_count": 43,
   "metadata": {},
   "outputs": [
    {
     "data": {
      "text/plain": [
       "<re.Match object; span=(0, 27), match='Raman, Kumar, 080-2856-1733'>"
      ]
     },
     "execution_count": 43,
     "metadata": {},
     "output_type": "execute_result"
    }
   ],
   "source": [
    "contactInfo = 'Raman, Kumar, 080-2856-1733'\n",
    "\n",
    "re.search(r'\\w+, \\w+, [\\d-]+', contactInfo)"
   ]
  },
  {
   "cell_type": "markdown",
   "metadata": {},
   "source": [
    "Example ...\n",
    "\n",
    "use a regular expression to match a date string in the form of ** Month name ** followed by ** day number **"
   ]
  },
  {
   "cell_type": "code",
   "execution_count": 44,
   "metadata": {},
   "outputs": [
    {
     "name": "stdout",
     "output_type": "stream",
     "text": [
      "Match at index 17, 24\n",
      "Full match: June 24\n",
      "Month: June\n",
      "Day: 24\n"
     ]
    }
   ],
   "source": [
    "input_str = \"Hari was born on June 24\"\n",
    "\n",
    "match = re.search(r\"([a-zA-Z]+) (\\d+)\", input_str) \n",
    "\n",
    "if match != None: \n",
    "    print (\"Match at index %s, %s\" % (match.start(), match.end()) )\n",
    "    \n",
    "    print (\"Full match: %s\" % (match.group(0)) )\n",
    "  \n",
    "    print (\"Month: %s\" % (match.group(1)) )\n",
    "  \n",
    "    print (\"Day: %s\" % (match.group(2)) )\n",
    "\n",
    "else: \n",
    "    print (\"The regex pattern does not match.\")"
   ]
  },
  {
   "cell_type": "code",
   "execution_count": null,
   "metadata": {
    "jupyter": {
     "outputs_hidden": true
    }
   },
   "outputs": [],
   "source": []
  },
  {
   "cell_type": "markdown",
   "metadata": {},
   "source": [
    "#### Emails Example\n",
    "\n",
    "Suppose you want to find the email address inside the string 'xyz alice-b@google.com purple monkey'. \n",
    "\n",
    "    - \\w (lowercase w) matches a \"word\" character: a letter or digit or underbar [a-zA-Z0-9_]. \n",
    "    - \\W (upper case W) matches any non-word character.\n",
    "    - @ scan till you see this character\n",
    "    - [w.] a set of characters to potentially match, so w is all alphanumeric characters, and the trailing period . adds to that set of characters.\n",
    "    - + one or more of the previous set."
   ]
  },
  {
   "cell_type": "code",
   "execution_count": 50,
   "metadata": {},
   "outputs": [
    {
     "name": "stdout",
     "output_type": "stream",
     "text": [
      "support@openDBtech\n"
     ]
    }
   ],
   "source": [
    "input_str    = 'purple support@openDBtech.com monkey dishwasher'\n",
    "result       = re.search(r'\\w+@\\w+', input_str)\n",
    "\n",
    "if result:\n",
    "    print (result.group() ) "
   ]
  },
  {
   "cell_type": "code",
   "execution_count": 46,
   "metadata": {},
   "outputs": [],
   "source": [
    "input_str    = 'purple support@openDBtech.com monkey blahblah@gmail.com'\n",
    "result       = re.search(r'@[w.]+', input_str)\n",
    "\n",
    "if result:\n",
    "    print (result.group()) "
   ]
  },
  {
   "cell_type": "markdown",
   "metadata": {},
   "source": [
    "#### Group Extraction\n",
    "\n",
    "The \"group\" feature of a regular expression allows you to pick out parts of the matching text.\n",
    "\n",
    "Suppose for the emails problem that we want to extract the username and host separately. \n",
    "\n",
    "To do this, add parenthesis ( ) around the username and host in the pattern, like this:\n",
    "\n",
    "r'([\\w.-]+)@([\\w.-]+)'. \n",
    "\n",
    "In this case, the parenthesis do not change what the pattern will match, instead they establish logical \"groups\" inside of the match text. \n",
    "\n",
    "On a successful search, match.group(1) is the match text corresponding to the 1st left parenthesis, and match.group(2) is the text corresponding to the 2nd left parenthesis. \n",
    "\n",
    "The plain match.group() is still the whole match text as usual."
   ]
  },
  {
   "cell_type": "code",
   "execution_count": 9,
   "metadata": {},
   "outputs": [
    {
     "name": "stdout",
     "output_type": "stream",
     "text": [
      "bhupen@popcorn-ai.com\n",
      "bhupen\n",
      "popcorn-ai.com\n"
     ]
    }
   ],
   "source": [
    "email_address = 'Please contact us at: bhupen@popcorn-ai.com'\n",
    "\n",
    "match = re.search(r'([\\w\\.-]+)@([\\w\\.-]+)', email_address)\n",
    "\n",
    "if match:\n",
    "    print(match.group()) # The whole matched text\n",
    "    print(match.group(1)) # The username (group 1)\n",
    "    print(match.group(2)) # The host (group 2)"
   ]
  },
  {
   "cell_type": "code",
   "execution_count": 30,
   "metadata": {},
   "outputs": [
    {
     "name": "stdout",
     "output_type": "stream",
     "text": [
      "Raman\n",
      "Kumar\n",
      "080-2856-1733\n"
     ]
    },
    {
     "data": {
      "text/plain": [
       "'Raman, Kumar, 080-2856-1733'"
      ]
     },
     "execution_count": 30,
     "metadata": {},
     "output_type": "execute_result"
    }
   ],
   "source": [
    "contactInfo = 'Raman, Kumar, 080-2856-1733'\n",
    "\n",
    "match = re.search(r'(\\w+), (\\w+), ([\\d-]+)', contactInfo)\n",
    "#match = re.search(r'(\\w+), (\\w+): (\\S+)', contactInfo)\n",
    "\n",
    "print(match.group(1))\n",
    "print(match.group(2))\n",
    "print(match.group(3))\n",
    "match.group(0)"
   ]
  },
  {
   "cell_type": "markdown",
   "metadata": {},
   "source": [
    "The reason that the group numbering starts with group 1 is because group 0 is reserved to hold the entire match"
   ]
  },
  {
   "cell_type": "code",
   "execution_count": 31,
   "metadata": {},
   "outputs": [
    {
     "name": "stdout",
     "output_type": "stream",
     "text": [
      "support@openDBtech.com\n",
      "support\n",
      "openDBtech.com\n"
     ]
    }
   ],
   "source": [
    "input_str    = 'purple support@openDBtech.com monkey dishwasher'\n",
    "result       = re.search(r'([\\w.-]+)@([\\w.-]+)', input_str)\n",
    "\n",
    "if result:\n",
    "    print (result.group() ) \n",
    "    print (result.group(1) ) \n",
    "    print (result.group(2) ) "
   ]
  },
  {
   "cell_type": "markdown",
   "metadata": {},
   "source": [
    "use a regular expression to match a few date strings."
   ]
  },
  {
   "cell_type": "code",
   "execution_count": 32,
   "metadata": {},
   "outputs": [
    {
     "name": "stdout",
     "output_type": "stream",
     "text": [
      "match: June 24\n",
      "match: August 9\n",
      "match: Dec 12\n"
     ]
    }
   ],
   "source": [
    "input_str    = 'June 24, August 9, Dec 12'\n",
    "\n",
    "matches = re.findall(r\"[a-zA-Z]+ \\d+\", input_str)\n",
    "\n",
    "for match in matches:\n",
    "    print(\"match: %s\" % (match))"
   ]
  },
  {
   "cell_type": "markdown",
   "metadata": {},
   "source": [
    "To capture the specific months of each date "
   ]
  },
  {
   "cell_type": "code",
   "execution_count": 33,
   "metadata": {},
   "outputs": [
    {
     "name": "stdout",
     "output_type": "stream",
     "text": [
      "match: June\n",
      "match: August\n",
      "match: Dec\n"
     ]
    }
   ],
   "source": [
    "input_str    = 'June 24, August 9, Dec 12'\n",
    "\n",
    "matches = re.findall(r\"([a-zA-Z]+) \\d+\", input_str)\n",
    "\n",
    "for match in matches:\n",
    "    print(\"match: %s\" % (match))"
   ]
  },
  {
   "cell_type": "markdown",
   "metadata": {},
   "source": [
    "#### Grouping by Name\n",
    "\n",
    "Sometimes, especially when a regular expression has a lot of groups, it is impractical to address each group by its number. "
   ]
  },
  {
   "cell_type": "code",
   "execution_count": 34,
   "metadata": {},
   "outputs": [
    {
     "name": "stdout",
     "output_type": "stream",
     "text": [
      "Raman\n",
      "Kumar\n",
      "080-2856-1733\n"
     ]
    },
    {
     "data": {
      "text/plain": [
       "'Raman, Kumar, 080-2856-1733'"
      ]
     },
     "execution_count": 34,
     "metadata": {},
     "output_type": "execute_result"
    }
   ],
   "source": [
    "contactInfo = 'Raman, Kumar, 080-2856-1733'\n",
    "\n",
    "match = re.search(r'(?P<last>\\w+), (?P<first>\\w+), (?P<phone>\\S+)', contactInfo)\n",
    "\n",
    "print(match.group('last'))\n",
    "print(match.group('first'))\n",
    "print(match.group('phone'))\n",
    "match.group(0)"
   ]
  },
  {
   "cell_type": "markdown",
   "metadata": {},
   "source": [
    "Grouping can be used with the findall() method too, even though it doesn’t return match objects. Instead, findall() will return a list of tuples, where the Nth element of each tuple corresponds to the Nth group of the regex pattern:\n",
    "\n",
    "_However, named grouping doesn’t work when using the findall() method._"
   ]
  },
  {
   "cell_type": "code",
   "execution_count": 302,
   "metadata": {},
   "outputs": [
    {
     "data": {
      "text/plain": [
       "[('Raman', 'Kumar', '080-2856-1733')]"
      ]
     },
     "execution_count": 302,
     "metadata": {},
     "output_type": "execute_result"
    }
   ],
   "source": [
    "contactInfo = 'Raman, Kumar, 080-2856-1733'\n",
    "\n",
    "re.findall(r'(\\w+), (\\w+), (\\S+)', contactInfo)"
   ]
  },
  {
   "cell_type": "code",
   "execution_count": null,
   "metadata": {
    "collapsed": true,
    "jupyter": {
     "outputs_hidden": true
    }
   },
   "outputs": [],
   "source": []
  },
  {
   "cell_type": "code",
   "execution_count": null,
   "metadata": {
    "collapsed": true,
    "jupyter": {
     "outputs_hidden": true
    }
   },
   "outputs": [],
   "source": []
  },
  {
   "cell_type": "code",
   "execution_count": null,
   "metadata": {
    "collapsed": true,
    "jupyter": {
     "outputs_hidden": true
    }
   },
   "outputs": [],
   "source": []
  },
  {
   "cell_type": "markdown",
   "metadata": {},
   "source": [
    "# findall()\n",
    "\n",
    " get a list of all matching patterns."
   ]
  },
  {
   "cell_type": "code",
   "execution_count": 35,
   "metadata": {},
   "outputs": [
    {
     "data": {
      "text/plain": [
       "['dog', 'dog']"
      ]
     },
     "execution_count": 35,
     "metadata": {},
     "output_type": "execute_result"
    }
   ],
   "source": [
    "re.findall(r'dog', 'dog cat dog')"
   ]
  },
  {
   "cell_type": "code",
   "execution_count": 36,
   "metadata": {},
   "outputs": [
    {
     "data": {
      "text/plain": [
       "['dog', 'dog']"
      ]
     },
     "execution_count": 36,
     "metadata": {},
     "output_type": "execute_result"
    }
   ],
   "source": [
    "results = re.findall(r'dog', 'dog cat dog')\n",
    "results"
   ]
  },
  {
   "cell_type": "code",
   "execution_count": 37,
   "metadata": {},
   "outputs": [
    {
     "name": "stdout",
     "output_type": "stream",
     "text": [
      "['h', 't', 't', 'p', 'w', 'w', 'w', 'o', 'p', 'e', 'n', 'D', 'B', 'c', 'o', 'm']\n"
     ]
    }
   ],
   "source": [
    "results = re.findall(r'\\w', 'http://www.openDB.com')\n",
    "print(results)"
   ]
  },
  {
   "cell_type": "code",
   "execution_count": 38,
   "metadata": {},
   "outputs": [
    {
     "name": "stdout",
     "output_type": "stream",
     "text": [
      "['Machine', 'Machine']\n"
     ]
    }
   ],
   "source": [
    "input_str     = 'Machine Learning is great, Maths is fun 11 22 33 44. Machine is fine'\n",
    "search_str    = r'Machine'\n",
    "\n",
    "search_results = re.findall(search_str, input_str)\n",
    "\n",
    "print(search_results)"
   ]
  },
  {
   "cell_type": "code",
   "execution_count": 46,
   "metadata": {},
   "outputs": [
    {
     "name": "stdout",
     "output_type": "stream",
     "text": [
      "bks@google.com\n",
      "arvind@abc.com\n"
     ]
    }
   ],
   "source": [
    "input_str = 'purple bks@google.com, blah monkey arvind@abc.com blah dishwasher'\n",
    "\n",
    "## Here re.findall() returns a list of all the found email strings\n",
    "results = re.findall(r'[\\w.-]+@[\\w.-]+', input_str) \n",
    "  \n",
    "for email in results:  \n",
    "    print (email)"
   ]
  },
  {
   "cell_type": "code",
   "execution_count": 47,
   "metadata": {},
   "outputs": [
    {
     "data": {
      "text/plain": [
       "['1.', '2.', '3.']"
      ]
     },
     "execution_count": 47,
     "metadata": {},
     "output_type": "execute_result"
    }
   ],
   "source": [
    "text = \"\"\"\n",
    "1. ricochet robots\n",
    "2. settlers of catan\n",
    "3. acquire\n",
    "\"\"\"\n",
    "re.findall(r'\\d+.', text, re.MULTILINE)"
   ]
  },
  {
   "cell_type": "code",
   "execution_count": 48,
   "metadata": {},
   "outputs": [
    {
     "name": "stdout",
     "output_type": "stream",
     "text": [
      "['123456789', '987654321']\n"
     ]
    }
   ],
   "source": [
    "string  = \"\"\"Hello my Number is 123456789 and \n",
    "             my friend's number is 987654321\"\"\"       \n",
    "  \n",
    "match = re.findall(r'\\d+', string) \n",
    "print(match) "
   ]
  },
  {
   "cell_type": "markdown",
   "metadata": {},
   "source": [
    "# Substituting text in a String\n",
    "\n",
    "- The sub function is used for this purpose."
   ]
  },
  {
   "cell_type": "code",
   "execution_count": 52,
   "metadata": {},
   "outputs": [
    {
     "name": "stdout",
     "output_type": "stream",
     "text": [
      "The film THREE IDIOTS was released in year 2001\n",
      "----------------------------------------\n"
     ]
    },
    {
     "data": {
      "text/plain": [
       "'The film THREE IDIOTS was released in year 2003'"
      ]
     },
     "execution_count": 52,
     "metadata": {},
     "output_type": "execute_result"
    }
   ],
   "source": [
    "input_str = \"The film THREE IDIOTS was released in year 2003\"  \n",
    "\n",
    "print(re.sub(r\"2003\", \"2001\", input_str)  )\n",
    "print(\"----------------------------------------\")\n",
    "\n",
    "input_str"
   ]
  },
  {
   "cell_type": "markdown",
   "metadata": {},
   "source": [
    "let's substitute all the alphabets in our string with character \"X\""
   ]
  },
  {
   "cell_type": "code",
   "execution_count": 54,
   "metadata": {},
   "outputs": [
    {
     "name": "stdout",
     "output_type": "stream",
     "text": [
      "TDD DDDD THREE IDIOTS DDD DDDDDDDD DD DDDD 2003\n"
     ]
    }
   ],
   "source": [
    "input_str = \"The film THREE IDIOTS was released in year 2003\"  \n",
    "\n",
    "result = re.sub(r\"[a-z]\", \"D\", input_str)  \n",
    "print(result)  "
   ]
  },
  {
   "cell_type": "markdown",
   "metadata": {},
   "source": [
    "all the characters have been replaced except the capital ones."
   ]
  },
  {
   "cell_type": "code",
   "execution_count": 325,
   "metadata": {},
   "outputs": [
    {
     "data": {
      "text/plain": [
       "'DDD DDDD DDDDD DDDDDD DDD DDDDDDDD DD DDDD 2003'"
      ]
     },
     "execution_count": 325,
     "metadata": {},
     "output_type": "execute_result"
    }
   ],
   "source": [
    "re.sub(r\"[a-z]\", \"D\", input_str, flags=re.I)  "
   ]
  },
  {
   "cell_type": "markdown",
   "metadata": {},
   "source": [
    "#### Removing Digits from a String\n",
    "\n",
    "The regex expression to find digits in a string is \\d. This pattern can be used to remove digits from a string by replacing them with an empty string of length zero"
   ]
  },
  {
   "cell_type": "code",
   "execution_count": 57,
   "metadata": {},
   "outputs": [
    {
     "name": "stdout",
     "output_type": "stream",
     "text": [
      "The film Pulp Fiction was released in year \n"
     ]
    }
   ],
   "source": [
    "text = \"The film Pulp Fiction was released in year 1994\"  \n",
    "result = re.sub(r\"\\d\", \"\", text)  \n",
    "print(result)  "
   ]
  },
  {
   "cell_type": "markdown",
   "metadata": {},
   "source": [
    "#### Removing Alphabet Letters from a String"
   ]
  },
  {
   "cell_type": "code",
   "execution_count": 58,
   "metadata": {},
   "outputs": [
    {
     "name": "stdout",
     "output_type": "stream",
     "text": [
      "        1994\n"
     ]
    }
   ],
   "source": [
    "text = \"The film Pulp Fiction was released in year 1994\"  \n",
    "result = re.sub(r\"[a-z]\", \"\", text, flags=re.I)  \n",
    "print(result)  "
   ]
  },
  {
   "cell_type": "code",
   "execution_count": 330,
   "metadata": {},
   "outputs": [
    {
     "name": "stdout",
     "output_type": "stream",
     "text": [
      "1994\n"
     ]
    }
   ],
   "source": [
    "text = \"The film Pulp Fiction was released in year 1994\"  \n",
    "result = re.sub(r\"[a-z\\s]\", \"\", text, flags=re.I)  \n",
    "print(result)  "
   ]
  },
  {
   "cell_type": "markdown",
   "metadata": {},
   "source": [
    "#### Removing Word Characters\n",
    "\n",
    "to remove all the word characters (letters and numbers) from a string and keep the remaining characters, you can use the \\w pattern in your regex and replace it with an empty string of length zero"
   ]
  },
  {
   "cell_type": "code",
   "execution_count": 59,
   "metadata": {},
   "outputs": [
    {
     "name": "stdout",
     "output_type": "stream",
     "text": [
      " , '@ '  ?   % $  .\n"
     ]
    }
   ],
   "source": [
    "text = \"The film, '@Pulp Fiction' was ? released in % $ year 1994.\"  \n",
    "result = re.sub(r\"\\w\",\"\", text, flags = re.I)  \n",
    "print(result)  "
   ]
  },
  {
   "cell_type": "markdown",
   "metadata": {},
   "source": [
    "#### Removing Non-Word Characters\n",
    "To remove all the non-word characters, the \\W pattern can be used as follows:"
   ]
  },
  {
   "cell_type": "code",
   "execution_count": 332,
   "metadata": {},
   "outputs": [
    {
     "name": "stdout",
     "output_type": "stream",
     "text": [
      "ThefilmPulpFictionwasreleasedinyear1994\n"
     ]
    }
   ],
   "source": [
    "text = \"The film, '@Pulp Fiction' was ? released in % $ year 1994.\"  \n",
    "result = re.sub(r\"\\W\", \"\", text, flags=re.I)  \n",
    "print(result)  "
   ]
  },
  {
   "cell_type": "markdown",
   "metadata": {},
   "source": [
    "#### Removing Multiple Spaces\n",
    "Sometimes, multiple spaces appear between words as a result of removing words or punctuation. \n",
    "\n",
    "For instance, in the output of the last example, there are multiple spaces between in and year. These spaces can be removed using the \\s pattern, which refers to a single space."
   ]
  },
  {
   "cell_type": "code",
   "execution_count": 60,
   "metadata": {},
   "outputs": [
    {
     "name": "stdout",
     "output_type": "stream",
     "text": [
      "The film Pulp Fiction was released in year 1994.\n"
     ]
    }
   ],
   "source": [
    "text = \"The film      Pulp Fiction      was released in   year 1994.\"  \n",
    "result = re.sub(r\"\\s+\", \" \", text, flags = re.I)  \n",
    "print(result) "
   ]
  },
  {
   "cell_type": "markdown",
   "metadata": {},
   "source": [
    "#### Removing Spaces from Start and End\n",
    "Sometimes we have a sentence that starts or ends with a space, which is often not desirable."
   ]
  },
  {
   "cell_type": "code",
   "execution_count": 61,
   "metadata": {},
   "outputs": [
    {
     "name": "stdout",
     "output_type": "stream",
     "text": [
      "The film Pulp Fiction was released in year 1994\n"
     ]
    }
   ],
   "source": [
    "text = \"         The film Pulp Fiction was released in year 1994\"  \n",
    "result = re.sub(r\"^\\s+\", \"\", text)  \n",
    "print(result)  "
   ]
  },
  {
   "cell_type": "markdown",
   "metadata": {},
   "source": [
    "#### Removing a Single Character\n",
    "Sometimes removing punctuation marks, such as an apostrophe, results in a single character which has no meaning. \n",
    "\n",
    "For instance, if you remove the apostrophe from the word Akram's and replace it with space, the resultant string is Akram s."
   ]
  },
  {
   "cell_type": "code",
   "execution_count": 336,
   "metadata": {},
   "outputs": [
    {
     "name": "stdout",
     "output_type": "stream",
     "text": [
      "The film Pulp Fiction was released in year 1994\n"
     ]
    }
   ],
   "source": [
    "text = \"The film Pulp Fiction     s was b released in year 1994\"  \n",
    "result = re.sub(r\"\\s+[a-zA-Z]\\s+\", \" \", text)  \n",
    "print(result)  "
   ]
  },
  {
   "cell_type": "markdown",
   "metadata": {},
   "source": [
    "#### Splitting a String\n",
    "split a string of words where one or more space characters are found"
   ]
  },
  {
   "cell_type": "code",
   "execution_count": 337,
   "metadata": {},
   "outputs": [
    {
     "name": "stdout",
     "output_type": "stream",
     "text": [
      "['The', 'film', 'Pulp', 'Fiction', 'was', 'released', 'in', 'year', '1994', '']\n"
     ]
    }
   ],
   "source": [
    "text = \"The film      Pulp   Fiction was released in year 1994      \"  \n",
    "result = re.split(r\"\\s+\", text)  \n",
    "print(result)  "
   ]
  },
  {
   "cell_type": "markdown",
   "metadata": {},
   "source": [
    "split string of words when a comma is found:"
   ]
  },
  {
   "cell_type": "code",
   "execution_count": 338,
   "metadata": {},
   "outputs": [
    {
     "name": "stdout",
     "output_type": "stream",
     "text": [
      "['The film', ' Pulp Fiction', ' was released in year 1994']\n"
     ]
    }
   ],
   "source": [
    "text = \"The film, Pulp Fiction, was released in year 1994\"  \n",
    "result = re.split(r\"\\,\", text)  \n",
    "print(result)"
   ]
  },
  {
   "cell_type": "code",
   "execution_count": null,
   "metadata": {
    "collapsed": true,
    "jupyter": {
     "outputs_hidden": true
    }
   },
   "outputs": [],
   "source": []
  }
 ],
 "metadata": {
  "kernelspec": {
   "display_name": "Python 3",
   "language": "python",
   "name": "python3"
  },
  "language_info": {
   "codemirror_mode": {
    "name": "ipython",
    "version": 3
   },
   "file_extension": ".py",
   "mimetype": "text/x-python",
   "name": "python",
   "nbconvert_exporter": "python",
   "pygments_lexer": "ipython3",
   "version": "3.7.7"
  }
 },
 "nbformat": 4,
 "nbformat_minor": 4
}
