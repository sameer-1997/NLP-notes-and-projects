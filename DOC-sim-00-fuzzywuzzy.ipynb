{
 "cells": [
  {
   "cell_type": "markdown",
   "metadata": {},
   "source": [
    "# Fuzzy String Matching \n",
    "\n",
    " approximately match strings and determine how similar they are"
   ]
  },
  {
   "cell_type": "code",
   "execution_count": 54,
   "metadata": {},
   "outputs": [
    {
     "name": "stdout",
     "output_type": "stream",
     "text": [
      "True\n"
     ]
    }
   ],
   "source": [
    "Str1 = \"Apple Inc.\"\n",
    "Str2 = \"Apple Inc.\"\n",
    "\n",
    "Result = Str1 == Str2\n",
    "print(Result)"
   ]
  },
  {
   "cell_type": "markdown",
   "metadata": {},
   "source": [
    "the variable Result will print __True__ since the strings are an exact match (100% similarity), "
   ]
  },
  {
   "cell_type": "code",
   "execution_count": 55,
   "metadata": {},
   "outputs": [
    {
     "name": "stdout",
     "output_type": "stream",
     "text": [
      "False\n"
     ]
    }
   ],
   "source": [
    "Str1 = \"Apple Inc.\"\n",
    "Str2 = \"apple Inc.\"\n",
    "\n",
    "Result = Str1 == Str2\n",
    "print(Result)"
   ]
  },
  {
   "cell_type": "code",
   "execution_count": 56,
   "metadata": {},
   "outputs": [
    {
     "name": "stdout",
     "output_type": "stream",
     "text": [
      "False\n"
     ]
    }
   ],
   "source": [
    "Str1 = \"Apple Inc.\"\n",
    "Str2 = \"apple Inc\"\n",
    "Result = Str1.lower() == Str2.lower()\n",
    "print(Result)"
   ]
  },
  {
   "cell_type": "markdown",
   "metadata": {},
   "source": [
    "Situations like the one above can, at times, appear on databases that have been created based on human data entry and in these cases we need more powerful tools to compare strings. One of these tools is called the __Levenshtein distance__."
   ]
  },
  {
   "cell_type": "markdown",
   "metadata": {},
   "source": [
    "## The Levenshtein Distance\n",
    "The Levenshtein distance is a metric to measure how apart are two sequences of words. In other words, it measures the minimum number of edits that you need to do to change a one-word sequence into the other. \n",
    "\n",
    "These edits can be insertions, deletions or substitutions. \n",
    "\n",
    "This metric was named after Vladimir Levenshtein, who originally considered it in 1965.\n",
    "\n",
    "Unlike the __Hamming__ distance, the __Levenshtein__ distance works on strings with an unequal length.\n",
    "\n",
    "The greater the Levenshtein distance, the greater are the difference between the strings. \n",
    "\n",
    "For example, from \"test\" to \"test\" the Levenshtein distance is 0 because both the source and target strings are identical. No transformations are needed. \n",
    "\n",
    "In contrast, from \"test\" to \"team\" the Levenshtein distance is 2 - two substitutions have to be done to turn \"test\" in to \"team\".\n",
    "\n",
    "__Installation__\n",
    "\n",
    "Install via pip :\n",
    "\n",
    "    pip install fuzzywuzzy\n",
    "    pip install python-Levenshtein"
   ]
  },
  {
   "cell_type": "code",
   "execution_count": 9,
   "metadata": {},
   "outputs": [
    {
     "name": "stderr",
     "output_type": "stream",
     "text": [
      "C:\\Users\\Sky\\anaconda3\\envs\\tensorflow_env\\lib\\site-packages\\fuzzywuzzy\\fuzz.py:11: UserWarning: Using slow pure-python SequenceMatcher. Install python-Levenshtein to remove this warning\n",
      "  warnings.warn('Using slow pure-python SequenceMatcher. Install python-Levenshtein to remove this warning')\n"
     ]
    }
   ],
   "source": [
    "from fuzzywuzzy import fuzz \n",
    "from fuzzywuzzy import process "
   ]
  },
  {
   "cell_type": "markdown",
   "metadata": {},
   "source": [
    "### Simple Ratio"
   ]
  },
  {
   "cell_type": "code",
   "execution_count": 59,
   "metadata": {},
   "outputs": [
    {
     "name": "stdout",
     "output_type": "stream",
     "text": [
      "94\n",
      "83\n",
      "89\n"
     ]
    }
   ],
   "source": [
    "print(fuzz.ratio(\"this is a test!!!\", \"this is a test!\"))\n",
    "print(fuzz.ratio(\"ACME Factory\", \"ACME Factory Inc.\"))\n",
    "print(fuzz.ratio('Barack Obama', 'Barack H. Obama'))"
   ]
  },
  {
   "cell_type": "markdown",
   "metadata": {},
   "source": [
    "check the partial_ratio results "
   ]
  },
  {
   "cell_type": "markdown",
   "metadata": {},
   "source": [
    "### Partial ratio"
   ]
  },
  {
   "cell_type": "code",
   "execution_count": 60,
   "metadata": {},
   "outputs": [
    {
     "name": "stdout",
     "output_type": "stream",
     "text": [
      "100\n",
      "100\n",
      "75\n"
     ]
    }
   ],
   "source": [
    "print(fuzz.partial_ratio(\"this is a test\", \"this is a test!\"))\n",
    "print(fuzz.partial_ratio(\"ACME Factory\", \"ACME Factory Inc.\"))\n",
    "print(fuzz.partial_ratio('Barack Obama', 'Barack H. Obama'))"
   ]
  },
  {
   "cell_type": "markdown",
   "metadata": {},
   "source": [
    "different variations in Barack Obama’s name produce a lower score for the partial ratio, \n",
    "\n",
    "why is that? \n",
    "\n",
    "Probably because the extra token for the middle name is right in the middle of the string. "
   ]
  },
  {
   "cell_type": "markdown",
   "metadata": {},
   "source": [
    "### Token Sort Ratio"
   ]
  },
  {
   "cell_type": "code",
   "execution_count": 72,
   "metadata": {},
   "outputs": [
    {
     "name": "stdout",
     "output_type": "stream",
     "text": [
      "92\n",
      "100\n"
     ]
    }
   ],
   "source": [
    "print(fuzz.token_sort_ratio('Barack Obama', 'Barack H. Obama'))\n",
    "print(fuzz.token_sort_ratio('Barack H Obama', 'H Barack  Obama'))"
   ]
  },
  {
   "cell_type": "code",
   "execution_count": 64,
   "metadata": {},
   "outputs": [
    {
     "name": "stdout",
     "output_type": "stream",
     "text": [
      "100\n",
      "100\n"
     ]
    }
   ],
   "source": [
    "print(fuzz.token_set_ratio('Barack Obama', 'Barack H. Obama'))\n",
    "print(fuzz.token_set_ratio('Barack H Obama', 'Barack H. Obama'))"
   ]
  },
  {
   "cell_type": "code",
   "execution_count": 14,
   "metadata": {},
   "outputs": [
    {
     "name": "stdout",
     "output_type": "stream",
     "text": [
      "91\n",
      "100\n"
     ]
    }
   ],
   "source": [
    "print(fuzz.ratio(\"fuzzy wuzzy was a bear\", \"wuzzy fuzzy was a bear\"))\n",
    "print(fuzz.token_sort_ratio(\"fuzzy wuzzy was a bear\", \"wuzzy fuzzy was a bear\"))"
   ]
  },
  {
   "cell_type": "markdown",
   "metadata": {},
   "source": [
    "### Token Set Ratio"
   ]
  },
  {
   "cell_type": "code",
   "execution_count": 15,
   "metadata": {},
   "outputs": [
    {
     "name": "stdout",
     "output_type": "stream",
     "text": [
      "84\n",
      "100\n"
     ]
    }
   ],
   "source": [
    "print(fuzz.token_sort_ratio(\"fuzzy was a bear\", \"fuzzy fuzzy was a bear\"))\n",
    "print(fuzz.token_set_ratio(\"fuzzy was a bear\", \"fuzzy fuzzy was a bear\"))"
   ]
  },
  {
   "cell_type": "markdown",
   "metadata": {},
   "source": [
    "## How they work?"
   ]
  },
  {
   "cell_type": "markdown",
   "metadata": {},
   "source": [
    "__fuzz.ratio__\n",
    "\n",
    "Simple. Just calls difflib.ratio on the two input strings"
   ]
  },
  {
   "cell_type": "code",
   "execution_count": 73,
   "metadata": {},
   "outputs": [
    {
     "data": {
      "text/plain": [
       "100"
      ]
     },
     "execution_count": 73,
     "metadata": {},
     "output_type": "execute_result"
    }
   ],
   "source": [
    "fuzz.ratio(\"NEW YORK MEATS\", \"NEW YORK MEATS\")"
   ]
  },
  {
   "cell_type": "code",
   "execution_count": 74,
   "metadata": {},
   "outputs": [
    {
     "data": {
      "text/plain": [
       "90"
      ]
     },
     "execution_count": 74,
     "metadata": {},
     "output_type": "execute_result"
    }
   ],
   "source": [
    "fuzz.ratio(\"NEW YORK MEATS\", \"NEW YORK MEATS!!!\")"
   ]
  },
  {
   "cell_type": "code",
   "execution_count": 75,
   "metadata": {},
   "outputs": [
    {
     "data": {
      "text/plain": [
       "100"
      ]
     },
     "execution_count": 75,
     "metadata": {},
     "output_type": "execute_result"
    }
   ],
   "source": [
    "fuzz.token_set_ratio(\"NEW YORK MEATS\", \"NEW YORK MEATS!!!\")"
   ]
  },
  {
   "attachments": {
    "fuzzy-simple.PNG": {
     "image/png": "[encoded data removed]"
    }
   },
   "cell_type": "markdown",
   "metadata": {},
   "source": [
    "As seen in the above code, the first string matches to the second one with 90%. The difference lies in the missing exclamation mark ‘!’.\n",
    "\n",
    "![fuzzy-simple.PNG](attachment:fuzzy-simple.PNG)\n",
    "\n",
    "> When you have a very simple set of strings which look almost similar with their words, you can use the simple ratio"
   ]
  },
  {
   "cell_type": "markdown",
   "metadata": {},
   "source": [
    "__fuzz.partial_ratio__\n",
    "\n",
    "Most of the times the simple ratio won’t work as it is very rigid in detecting the matches. For example, when we wouldn’t like to take into consideration all the small details like stop words, punctuations, capital letters etc., it’s better to use the Partial Ratio. \n",
    "\n",
    "Calls ratio using the shortest string (length n) against all n-length substrings of the larger string and returns the highest score (code).\n",
    "\n",
    "Notice here that \"YANKEES\" is the shortest string (length 7), and we run the ratio with \"YANKEES\" against all substrings of length 7 of \"NEW YORK YANKEES\" (which would include checking against \"YANKEES\", a 100% match):"
   ]
  },
  {
   "cell_type": "code",
   "execution_count": 77,
   "metadata": {},
   "outputs": [
    {
     "name": "stdout",
     "output_type": "stream",
     "text": [
      "61\n",
      "100\n",
      "55\n"
     ]
    }
   ],
   "source": [
    "print(fuzz.ratio(\"YANKEES\", \"NEW YORK YANKEES\"))\n",
    "print(fuzz.partial_ratio(\"YANKEE\", \"NEW YORK YANKEES\"))\n",
    "print(fuzz.token_set_ratio(\"YANKEE\", \"NEW YORK YANKEES\"))"
   ]
  },
  {
   "cell_type": "code",
   "execution_count": 41,
   "metadata": {},
   "outputs": [
    {
     "data": {
      "text/plain": [
       "100"
      ]
     },
     "execution_count": 41,
     "metadata": {},
     "output_type": "execute_result"
    }
   ],
   "source": [
    "fuzz.partial_ratio(\"Humpty Dumpty sat on a wall !\", \"Humpty Dumpty\")"
   ]
  },
  {
   "cell_type": "markdown",
   "metadata": {},
   "source": [
    "__fuzz.token_sort_ratio__\n",
    "\n",
    "If the order in which the words are placed in a particular sentence doesn’t matter then the best way to match two strings is by the use of Token Sort Ratio from the package.\n",
    "\n",
    "Calls ratio on both strings after sorting the tokens in each string . \n",
    "\n",
    "Notice here fuzz.ratio and fuzz.partial_ratio both fail, but once you sort the tokens it's a 100% match:"
   ]
  },
  {
   "cell_type": "code",
   "execution_count": 20,
   "metadata": {},
   "outputs": [
    {
     "name": "stdout",
     "output_type": "stream",
     "text": [
      "45\n",
      "45\n",
      "100\n"
     ]
    }
   ],
   "source": [
    "print(fuzz.ratio(\"New York Mets vs Atlanta Braves\", \"Atlanta Braves vs New York Mets\"))\n",
    "print(fuzz.partial_ratio(\"New York Mets vs Atlanta Braves\", \"Atlanta Braves vs New York Mets\"))\n",
    "print(fuzz.token_sort_ratio(\"New York Mets vs Atlanta Braves\", \"Atlanta Braves vs New York Mets\"))\n"
   ]
  },
  {
   "cell_type": "code",
   "execution_count": 21,
   "metadata": {},
   "outputs": [
    {
     "data": {
      "text/plain": [
       "100"
      ]
     },
     "execution_count": 21,
     "metadata": {},
     "output_type": "execute_result"
    }
   ],
   "source": [
    "fuzz.token_sort_ratio(\"Humpty Dumpty sat on a wall\",\"Dumpty Humpty wall on sat a\")"
   ]
  },
  {
   "cell_type": "markdown",
   "metadata": {},
   "source": [
    "__fuzz.token_set_ratio__\n",
    "\n",
    "When you don’t care about the number of times a word in the string is repeated, then it is better to use the Token Set Ratio from the package.  \n",
    "\n",
    "Calls ratio on three particular substring sets and returns the max (code):\n",
    "\n",
    "intersection-only and the intersection with remainder of string one\n",
    "intersection-only and the intersection with remainder of string two\n",
    "intersection with remainder of one and intersection with remainder of two\n",
    "\n",
    "Notice that by splitting up the intersection and remainders of the two strings, we're accounting for both how similar and different the two strings are:"
   ]
  },
  {
   "cell_type": "code",
   "execution_count": 42,
   "metadata": {},
   "outputs": [
    {
     "name": "stdout",
     "output_type": "stream",
     "text": [
      "24\n",
      "62\n",
      "51\n",
      "91\n"
     ]
    }
   ],
   "source": [
    "print(fuzz.ratio(\"mariners vs angels\",         \"los angeles angels of anaheim at seattle mariners\"))\n",
    "print(fuzz.partial_ratio(\"mariners vs angels\", \"los angeles angels of anaheim at seattle mariners\"))\n",
    "print(fuzz.token_sort_ratio(\"mariners vs angels\", \"los angeles angels of anaheim at seattle mariners\"))\n",
    "print(fuzz.token_set_ratio(\"mariners vs angels\",  \"los angeles angels of anaheim at seattle mariners\"))\n"
   ]
  },
  {
   "cell_type": "code",
   "execution_count": null,
   "metadata": {},
   "outputs": [],
   "source": [
    "29, DOWN TOWN, XYS Streat, U.S.A\n",
    "DOWN Town, XYZ, st. US, 29\n",
    "29 down town xyZ, ST USA\n",
    "usa\n",
    "Usa\n",
    "\n",
    "topic molling in python\n",
    "topic modelling in python\n"
   ]
  },
  {
   "cell_type": "code",
   "execution_count": 43,
   "metadata": {},
   "outputs": [
    {
     "data": {
      "text/plain": [
       "100"
      ]
     },
     "execution_count": 43,
     "metadata": {},
     "output_type": "execute_result"
    }
   ],
   "source": [
    "fuzz.token_set_ratio(\"Humpty Dumpty sat on a wall\", \"Humpty Humpty Dumpty sat on a wall\")"
   ]
  },
  {
   "cell_type": "code",
   "execution_count": 44,
   "metadata": {},
   "outputs": [],
   "source": [
    "query = \"Mango\"\n",
    "\n",
    "choices = ['mango', 'go', 'an', 'Mango!', 'man', 'orange']"
   ]
  },
  {
   "cell_type": "code",
   "execution_count": 45,
   "metadata": {},
   "outputs": [
    {
     "data": {
      "text/plain": [
       "[('mango', 100), ('Mango!', 100), ('go', 90), ('an', 90), ('man', 90)]"
      ]
     },
     "execution_count": 45,
     "metadata": {},
     "output_type": "execute_result"
    }
   ],
   "source": [
    "process.extract(query, choices)"
   ]
  },
  {
   "cell_type": "code",
   "execution_count": 46,
   "metadata": {},
   "outputs": [
    {
     "data": {
      "text/plain": [
       "('mango', 100)"
      ]
     },
     "execution_count": 46,
     "metadata": {},
     "output_type": "execute_result"
    }
   ],
   "source": [
    "process.extractOne(query, choices)"
   ]
  },
  {
   "cell_type": "code",
   "execution_count": 47,
   "metadata": {},
   "outputs": [
    {
     "data": {
      "text/plain": [
       "[('Mango!', 100), ('Tango', 80)]"
      ]
     },
     "execution_count": 47,
     "metadata": {},
     "output_type": "execute_result"
    }
   ],
   "source": [
    "query = \"Mango\"\n",
    "choices = ['Pogo', 'orange', 'apple', 'Mango!', 'fruits', 'Tango']\n",
    "\n",
    "process.extract(query, choices, scorer = fuzz.partial_ratio, limit = 2)"
   ]
  },
  {
   "cell_type": "markdown",
   "metadata": {},
   "source": [
    "## Example "
   ]
  },
  {
   "cell_type": "code",
   "execution_count": 48,
   "metadata": {},
   "outputs": [],
   "source": [
    "from fuzzywuzzy import process\n",
    "import pandas as pd"
   ]
  },
  {
   "cell_type": "code",
   "execution_count": 49,
   "metadata": {},
   "outputs": [],
   "source": [
    "names_array=[]\n",
    "ratio_array=[]"
   ]
  },
  {
   "cell_type": "code",
   "execution_count": 78,
   "metadata": {},
   "outputs": [],
   "source": [
    "df=pd.read_csv(\"wrong-country-names.csv\",encoding=\"ISO-8859-1\")\n",
    "wrong_names=df['name'].dropna().values"
   ]
  },
  {
   "cell_type": "code",
   "execution_count": 80,
   "metadata": {},
   "outputs": [
    {
     "data": {
      "text/html": [
       "<div>\n",
       "<style scoped>\n",
       "    .dataframe tbody tr th:only-of-type {\n",
       "        vertical-align: middle;\n",
       "    }\n",
       "\n",
       "    .dataframe tbody tr th {\n",
       "        vertical-align: top;\n",
       "    }\n",
       "\n",
       "    .dataframe thead th {\n",
       "        text-align: right;\n",
       "    }\n",
       "</style>\n",
       "<table border=\"1\" class=\"dataframe\">\n",
       "  <thead>\n",
       "    <tr style=\"text-align: right;\">\n",
       "      <th></th>\n",
       "      <th>name</th>\n",
       "      <th>alpha-2</th>\n",
       "      <th>alpha-3</th>\n",
       "      <th>country-code</th>\n",
       "      <th>iso_3166-2</th>\n",
       "      <th>region</th>\n",
       "      <th>sub-region</th>\n",
       "      <th>region-code</th>\n",
       "      <th>sub-region-code</th>\n",
       "    </tr>\n",
       "  </thead>\n",
       "  <tbody>\n",
       "    <tr>\n",
       "      <th>239</th>\n",
       "      <td>Zimbebwe</td>\n",
       "      <td>ZW</td>\n",
       "      <td>ZWE</td>\n",
       "      <td>716</td>\n",
       "      <td>ISO 3166-2:ZW</td>\n",
       "      <td>Africa</td>\n",
       "      <td>Eastern Africa</td>\n",
       "      <td>2.0</td>\n",
       "      <td>14.0</td>\n",
       "    </tr>\n",
       "    <tr>\n",
       "      <th>240</th>\n",
       "      <td>enterctice</td>\n",
       "      <td>AQ</td>\n",
       "      <td>ATA</td>\n",
       "      <td>10</td>\n",
       "      <td>ISO 3166-2:AQ</td>\n",
       "      <td>NaN</td>\n",
       "      <td>NaN</td>\n",
       "      <td>NaN</td>\n",
       "      <td>NaN</td>\n",
       "    </tr>\n",
       "    <tr>\n",
       "      <th>241</th>\n",
       "      <td>Bouvet Islend</td>\n",
       "      <td>BV</td>\n",
       "      <td>BVT</td>\n",
       "      <td>74</td>\n",
       "      <td>ISO 3166-2:BV</td>\n",
       "      <td>NaN</td>\n",
       "      <td>NaN</td>\n",
       "      <td>NaN</td>\n",
       "      <td>NaN</td>\n",
       "    </tr>\n",
       "    <tr>\n",
       "      <th>242</th>\n",
       "      <td>British Indien Oceen Territory</td>\n",
       "      <td>IO</td>\n",
       "      <td>IOT</td>\n",
       "      <td>86</td>\n",
       "      <td>ISO 3166-2:IO</td>\n",
       "      <td>NaN</td>\n",
       "      <td>NaN</td>\n",
       "      <td>NaN</td>\n",
       "      <td>NaN</td>\n",
       "    </tr>\n",
       "    <tr>\n",
       "      <th>243</th>\n",
       "      <td>Christmes Islend</td>\n",
       "      <td>CX</td>\n",
       "      <td>CXR</td>\n",
       "      <td>162</td>\n",
       "      <td>ISO 3166-2:CX</td>\n",
       "      <td>NaN</td>\n",
       "      <td>NaN</td>\n",
       "      <td>NaN</td>\n",
       "      <td>NaN</td>\n",
       "    </tr>\n",
       "    <tr>\n",
       "      <th>244</th>\n",
       "      <td>Cocos (Keeling) Islends</td>\n",
       "      <td>CC</td>\n",
       "      <td>CCK</td>\n",
       "      <td>166</td>\n",
       "      <td>ISO 3166-2:CC</td>\n",
       "      <td>NaN</td>\n",
       "      <td>NaN</td>\n",
       "      <td>NaN</td>\n",
       "      <td>NaN</td>\n",
       "    </tr>\n",
       "    <tr>\n",
       "      <th>245</th>\n",
       "      <td>French Southern Territories</td>\n",
       "      <td>TF</td>\n",
       "      <td>ATF</td>\n",
       "      <td>260</td>\n",
       "      <td>ISO 3166-2:TF</td>\n",
       "      <td>NaN</td>\n",
       "      <td>NaN</td>\n",
       "      <td>NaN</td>\n",
       "      <td>NaN</td>\n",
       "    </tr>\n",
       "    <tr>\n",
       "      <th>246</th>\n",
       "      <td>Heerd Islend end McDoneld Islends</td>\n",
       "      <td>HM</td>\n",
       "      <td>HMD</td>\n",
       "      <td>334</td>\n",
       "      <td>ISO 3166-2:HM</td>\n",
       "      <td>NaN</td>\n",
       "      <td>NaN</td>\n",
       "      <td>NaN</td>\n",
       "      <td>NaN</td>\n",
       "    </tr>\n",
       "    <tr>\n",
       "      <th>247</th>\n",
       "      <td>South Georgie end the South Sendwich Islends</td>\n",
       "      <td>GS</td>\n",
       "      <td>SGS</td>\n",
       "      <td>239</td>\n",
       "      <td>ISO 3166-2:GS</td>\n",
       "      <td>NaN</td>\n",
       "      <td>NaN</td>\n",
       "      <td>NaN</td>\n",
       "      <td>NaN</td>\n",
       "    </tr>\n",
       "    <tr>\n",
       "      <th>248</th>\n",
       "      <td>United Stetes Minor Outlying Islends</td>\n",
       "      <td>UM</td>\n",
       "      <td>UMI</td>\n",
       "      <td>581</td>\n",
       "      <td>ISO 3166-2:UM</td>\n",
       "      <td>NaN</td>\n",
       "      <td>NaN</td>\n",
       "      <td>NaN</td>\n",
       "      <td>NaN</td>\n",
       "    </tr>\n",
       "  </tbody>\n",
       "</table>\n",
       "</div>"
      ],
      "text/plain": [
       "                                             name alpha-2 alpha-3  \\\n",
       "239                                      Zimbebwe      ZW     ZWE   \n",
       "240                                    enterctice      AQ     ATA   \n",
       "241                                 Bouvet Islend      BV     BVT   \n",
       "242                British Indien Oceen Territory      IO     IOT   \n",
       "243                              Christmes Islend      CX     CXR   \n",
       "244                       Cocos (Keeling) Islends      CC     CCK   \n",
       "245                   French Southern Territories      TF     ATF   \n",
       "246             Heerd Islend end McDoneld Islends      HM     HMD   \n",
       "247  South Georgie end the South Sendwich Islends      GS     SGS   \n",
       "248          United Stetes Minor Outlying Islends      UM     UMI   \n",
       "\n",
       "     country-code     iso_3166-2  region      sub-region  region-code  \\\n",
       "239           716  ISO 3166-2:ZW  Africa  Eastern Africa          2.0   \n",
       "240            10  ISO 3166-2:AQ     NaN             NaN          NaN   \n",
       "241            74  ISO 3166-2:BV     NaN             NaN          NaN   \n",
       "242            86  ISO 3166-2:IO     NaN             NaN          NaN   \n",
       "243           162  ISO 3166-2:CX     NaN             NaN          NaN   \n",
       "244           166  ISO 3166-2:CC     NaN             NaN          NaN   \n",
       "245           260  ISO 3166-2:TF     NaN             NaN          NaN   \n",
       "246           334  ISO 3166-2:HM     NaN             NaN          NaN   \n",
       "247           239  ISO 3166-2:GS     NaN             NaN          NaN   \n",
       "248           581  ISO 3166-2:UM     NaN             NaN          NaN   \n",
       "\n",
       "     sub-region-code  \n",
       "239             14.0  \n",
       "240              NaN  \n",
       "241              NaN  \n",
       "242              NaN  \n",
       "243              NaN  \n",
       "244              NaN  \n",
       "245              NaN  \n",
       "246              NaN  \n",
       "247              NaN  \n",
       "248              NaN  "
      ]
     },
     "execution_count": 80,
     "metadata": {},
     "output_type": "execute_result"
    }
   ],
   "source": [
    "df.tail(10)"
   ]
  },
  {
   "cell_type": "code",
   "execution_count": 81,
   "metadata": {},
   "outputs": [
    {
     "name": "stdout",
     "output_type": "stream",
     "text": [
      "                     name    correct_country_name  country_names_ratio\n",
      "0           Ålend Islends           Åland Islands                   83\n",
      "1                 elbenie                    Niue                   77\n",
      "2                 endorre                 Andorra                   71\n",
      "3                 eustrie                 Austria                   71\n",
      "4                 Belerus                 Belarus                   86\n",
      "5                 Belgium                 Belgium                  100\n",
      "6  Bosnie end Herzegovine  Bosnia and Herzegovina                   86\n",
      "7                Bulgerie                Bulgaria                   75\n",
      "8                 Croetie                 Croatia                   71\n",
      "9          Czech Republic          Czech Republic                  100\n"
     ]
    }
   ],
   "source": [
    "\n",
    "def match_names(wrong_names,correct_names):\n",
    "    for row in wrong_names:\n",
    "        x=process.extractOne(row, correct_names)\n",
    "        names_array.append(x[0])\n",
    "        ratio_array.append(x[1])\n",
    "    return names_array,ratio_array\n",
    " \n",
    " \n",
    "# Wrong country names dataset\n",
    "df=pd.read_csv(\"wrong-country-names.csv\",encoding=\"ISO-8859-1\")\n",
    "wrong_names=df['name'].dropna().values\n",
    " \n",
    "#Correct country names dataset\n",
    "choices_df=pd.read_csv(\"country-names.csv\",encoding=\"ISO-8859-1\")\n",
    "correct_names=choices_df['name'].values\n",
    " \n",
    "name_match,ratio_match=match_names(wrong_names,correct_names)\n",
    " \n",
    "df['correct_country_name']=pd.Series(name_match)\n",
    "df['country_names_ratio']=pd.Series(ratio_match)\n",
    " \n",
    "df.to_csv(\"string_matched_country_names.csv\")\n",
    " \n",
    "print(df[['name','correct_country_name','country_names_ratio']].head(10))"
   ]
  },
  {
   "cell_type": "code",
   "execution_count": 82,
   "metadata": {},
   "outputs": [
    {
     "data": {
      "text/html": [
       "<div>\n",
       "<style scoped>\n",
       "    .dataframe tbody tr th:only-of-type {\n",
       "        vertical-align: middle;\n",
       "    }\n",
       "\n",
       "    .dataframe tbody tr th {\n",
       "        vertical-align: top;\n",
       "    }\n",
       "\n",
       "    .dataframe thead th {\n",
       "        text-align: right;\n",
       "    }\n",
       "</style>\n",
       "<table border=\"1\" class=\"dataframe\">\n",
       "  <thead>\n",
       "    <tr style=\"text-align: right;\">\n",
       "      <th></th>\n",
       "      <th>name</th>\n",
       "      <th>correct_country_name</th>\n",
       "      <th>country_names_ratio</th>\n",
       "    </tr>\n",
       "  </thead>\n",
       "  <tbody>\n",
       "    <tr>\n",
       "      <th>0</th>\n",
       "      <td>Ålend Islends</td>\n",
       "      <td>Åland Islands</td>\n",
       "      <td>83</td>\n",
       "    </tr>\n",
       "    <tr>\n",
       "      <th>1</th>\n",
       "      <td>elbenie</td>\n",
       "      <td>Niue</td>\n",
       "      <td>77</td>\n",
       "    </tr>\n",
       "    <tr>\n",
       "      <th>2</th>\n",
       "      <td>endorre</td>\n",
       "      <td>Andorra</td>\n",
       "      <td>71</td>\n",
       "    </tr>\n",
       "    <tr>\n",
       "      <th>3</th>\n",
       "      <td>eustrie</td>\n",
       "      <td>Austria</td>\n",
       "      <td>71</td>\n",
       "    </tr>\n",
       "    <tr>\n",
       "      <th>4</th>\n",
       "      <td>Belerus</td>\n",
       "      <td>Belarus</td>\n",
       "      <td>86</td>\n",
       "    </tr>\n",
       "    <tr>\n",
       "      <th>...</th>\n",
       "      <td>...</td>\n",
       "      <td>...</td>\n",
       "      <td>...</td>\n",
       "    </tr>\n",
       "    <tr>\n",
       "      <th>244</th>\n",
       "      <td>Cocos (Keeling) Islends</td>\n",
       "      <td>Cocos (Keeling) Islands</td>\n",
       "      <td>96</td>\n",
       "    </tr>\n",
       "    <tr>\n",
       "      <th>245</th>\n",
       "      <td>French Southern Territories</td>\n",
       "      <td>French Southern Territories</td>\n",
       "      <td>100</td>\n",
       "    </tr>\n",
       "    <tr>\n",
       "      <th>246</th>\n",
       "      <td>Heerd Islend end McDoneld Islends</td>\n",
       "      <td>Heard Island and McDonald Islands</td>\n",
       "      <td>85</td>\n",
       "    </tr>\n",
       "    <tr>\n",
       "      <th>247</th>\n",
       "      <td>South Georgie end the South Sendwich Islends</td>\n",
       "      <td>South Georgia and the South Sandwich Islands</td>\n",
       "      <td>91</td>\n",
       "    </tr>\n",
       "    <tr>\n",
       "      <th>248</th>\n",
       "      <td>United Stetes Minor Outlying Islends</td>\n",
       "      <td>United States Minor Outlying Islands</td>\n",
       "      <td>94</td>\n",
       "    </tr>\n",
       "  </tbody>\n",
       "</table>\n",
       "<p>249 rows × 3 columns</p>\n",
       "</div>"
      ],
      "text/plain": [
       "                                             name  \\\n",
       "0                                   Ålend Islends   \n",
       "1                                         elbenie   \n",
       "2                                         endorre   \n",
       "3                                         eustrie   \n",
       "4                                         Belerus   \n",
       "..                                            ...   \n",
       "244                       Cocos (Keeling) Islends   \n",
       "245                   French Southern Territories   \n",
       "246             Heerd Islend end McDoneld Islends   \n",
       "247  South Georgie end the South Sendwich Islends   \n",
       "248          United Stetes Minor Outlying Islends   \n",
       "\n",
       "                             correct_country_name  country_names_ratio  \n",
       "0                                   Åland Islands                   83  \n",
       "1                                            Niue                   77  \n",
       "2                                         Andorra                   71  \n",
       "3                                         Austria                   71  \n",
       "4                                         Belarus                   86  \n",
       "..                                            ...                  ...  \n",
       "244                       Cocos (Keeling) Islands                   96  \n",
       "245                   French Southern Territories                  100  \n",
       "246             Heard Island and McDonald Islands                   85  \n",
       "247  South Georgia and the South Sandwich Islands                   91  \n",
       "248          United States Minor Outlying Islands                   94  \n",
       "\n",
       "[249 rows x 3 columns]"
      ]
     },
     "metadata": {},
     "output_type": "display_data"
    }
   ],
   "source": [
    "display(df[['name','correct_country_name','country_names_ratio']])"
   ]
  },
  {
   "cell_type": "code",
   "execution_count": null,
   "metadata": {},
   "outputs": [],
   "source": []
  },
  {
   "cell_type": "code",
   "execution_count": null,
   "metadata": {},
   "outputs": [],
   "source": []
  }
 ],
 "metadata": {
  "kernelspec": {
   "display_name": "Python 3",
   "language": "python",
   "name": "python3"
  },
  "language_info": {
   "codemirror_mode": {
    "name": "ipython",
    "version": 3
   },
   "file_extension": ".py",
   "mimetype": "text/x-python",
   "name": "python",
   "nbconvert_exporter": "python",
   "pygments_lexer": "ipython3",
   "version": "3.6.10"
  },
  "latex_envs": {
   "LaTeX_envs_menu_present": true,
   "autoclose": false,
   "autocomplete": true,
   "bibliofile": "biblio.bib",
   "cite_by": "apalike",
   "current_citInitial": 1,
   "eqLabelWithNumbers": true,
   "eqNumInitial": 1,
   "hotkeys": {
    "equation": "Ctrl-E",
    "itemize": "Ctrl-I"
   },
   "labels_anchors": false,
   "latex_user_defs": false,
   "report_style_numbering": false,
   "user_envs_cfg": false
  },
  "toc": {
   "base_numbering": 1,
   "nav_menu": {},
   "number_sections": true,
   "sideBar": true,
   "skip_h1_title": false,
   "title_cell": "Table of Contents",
   "title_sidebar": "Contents",
   "toc_cell": false,
   "toc_position": {},
   "toc_section_display": true,
   "toc_window_display": false
  }
 },
 "nbformat": 4,
 "nbformat_minor": 4
}
