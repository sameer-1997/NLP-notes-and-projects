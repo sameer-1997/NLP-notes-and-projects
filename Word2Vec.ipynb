{
 "cells": [
  {
   "cell_type": "code",
   "execution_count": 36,
   "metadata": {},
   "outputs": [],
   "source": [
    "import nltk\n",
    "\n",
    "from gensim.models import Word2Vec\n",
    "from nltk.corpus import stopwords\n",
    "\n",
    "import re"
   ]
  },
  {
   "cell_type": "code",
   "execution_count": 80,
   "metadata": {},
   "outputs": [],
   "source": [
    "paragraph = \"\"\"I have three visions for India. In 3000 years of our history, people from all over \n",
    "               the world have come and invaded us, captured our lands, conquered our minds. \n",
    "               From Alexander onwards, the Greeks, the Turks, the Moguls, the Portuguese, the British,\n",
    "               the French, the Dutch, all of them came and looted us, took over what was ours. \n",
    "               Yet we have not done this to any other nation. We have not conquered anyone. \n",
    "               We have not grabbed their land, their culture, \n",
    "               their history and tried to enforce our way of life on them. \n",
    "               Why? Because we respect the freedom of others.That is why my \n",
    "               first vision is that of freedom. I believe that India got its first vision of \n",
    "               this in 1857, when we started the War of Independence. It is this freedom that\n",
    "               we must protect and nurture and build on. If we are not free, no one will respect us.\n",
    "               My second vision for India’s development. For fifty years we have been a developing nation.\n",
    "               It is time we see ourselves as a developed nation. We are among the top 5 nations of the world\n",
    "               in terms of GDP. We have a 10 percent growth rate in most areas. Our poverty levels are falling.\n",
    "               Our achievements are being globally recognised today. Yet we lack the self-confidence to\n",
    "               see ourselves as a developed nation, self-reliant and self-assured. Isn’t this incorrect?\n",
    "               I have a third vision. India must stand up to the world. Because I believe that unless India \n",
    "               stands up to the world, no one will respect us. Only strength respects strength. We must be \n",
    "               strong not only as a military power but also as an economic power. Both must go hand-in-hand. \n",
    "               My good fortune was to have worked with three great minds. Dr. Vikram Sarabhai of the Dept. of \n",
    "               space, Professor Satish Dhawan, who succeeded him and Dr. Brahm Prakash, father of nuclear material.\n",
    "               I was lucky to have worked with all three of them closely and consider this the great opportunity of my life. \n",
    "               I see four milestones in my career\"\"\""
   ]
  },
  {
   "cell_type": "code",
   "execution_count": 37,
   "metadata": {},
   "outputs": [],
   "source": [
    "paragraph = \"\"\"Chandrayaan-2 (candra-yāna, transl. \"mooncraft\"; About this soundpronunciation (help·info)) is the second lunar exploration mission developed by the Indian Space Research Organisation (ISRO), after Chandrayaan-1. As of September 2019, it consists of a lunar orbiter, and also included the Vikram lander, and the Pragyan lunar rover, all of which were developed in India. The main scientific objective is to map and study the variations in lunar surface composition, as well as the location and abundance of lunar water.\n",
    "\n",
    "The spacecraft was launched on its mission to the Moon from the second launch pad at the Satish Dhawan Space Centre in Andhra Pradesh on 22 July 2019 at 2.43 p.m. IST (09:13 UTC) by a GSLV Mark III M1. The craft reached the Moon's orbit on 20 August 2019 and began orbital positioning manoeuvres for the landing of the Vikram lander. The lander and the rover were scheduled to land on the near side of the Moon, in the south polar region at a latitude of about 70° south on 6 September 2019 and conduct scientific experiments for one lunar day, which approximates to two Earth weeks. A successful soft landing would have made India the fourth country after the Soviet Union, United States and China to do so.\n",
    "\n",
    "However, the lander deviated from its intended trajectory while attempting to land on 6 September 2019 which caused a 'hard landing'. According to a failure analysis report submitted to ISRO, the crash was caused by a software glitch. ISRO may re-attempt a landing by the second quarter of 2021 with Chandrayaan-3.\"\"\""
   ]
  },
  {
   "cell_type": "code",
   "execution_count": 81,
   "metadata": {},
   "outputs": [],
   "source": [
    "# Preprocessing the data\n",
    "text = re.sub(r'\\[[0-9]*\\]',' ',paragraph)\n",
    "text = re.sub(r'\\s+',' ',text)\n",
    "text = text.lower()\n",
    "text = re.sub(r'\\d',' ',text)\n",
    "text = re.sub(r'\\s+',' ',text)"
   ]
  },
  {
   "cell_type": "code",
   "execution_count": 82,
   "metadata": {},
   "outputs": [
    {
     "data": {
      "text/plain": [
       "'i have three visions for india. in years of our history, people from all over the world have come and invaded us, captured our lands, conquered our minds. from alexander onwards, the greeks, the turks, the moguls, the portuguese, the british, the french, the dutch, all of them came and looted us, took over what was ours. yet we have not done this to any other nation. we have not conquered anyone. we have not grabbed their land, their culture, their history and tried to enforce our way of life on them. why? because we respect the freedom of others.that is why my first vision is that of freedom. i believe that india got its first vision of this in , when we started the war of independence. it is this freedom that we must protect and nurture and build on. if we are not free, no one will respect us. my second vision for india’s development. for fifty years we have been a developing nation. it is time we see ourselves as a developed nation. we are among the top nations of the world in terms of gdp. we have a percent growth rate in most areas. our poverty levels are falling. our achievements are being globally recognised today. yet we lack the self-confidence to see ourselves as a developed nation, self-reliant and self-assured. isn’t this incorrect? i have a third vision. india must stand up to the world. because i believe that unless india stands up to the world, no one will respect us. only strength respects strength. we must be strong not only as a military power but also as an economic power. both must go hand-in-hand. my good fortune was to have worked with three great minds. dr. vikram sarabhai of the dept. of space, professor satish dhawan, who succeeded him and dr. brahm prakash, father of nuclear material. i was lucky to have worked with all three of them closely and consider this the great opportunity of my life. i see four milestones in my career'"
      ]
     },
     "execution_count": 82,
     "metadata": {},
     "output_type": "execute_result"
    }
   ],
   "source": [
    "text"
   ]
  },
  {
   "cell_type": "code",
   "execution_count": 92,
   "metadata": {},
   "outputs": [],
   "source": [
    "# Preparing the dataset\n",
    "sentences = nltk.sent_tokenize(text)\n",
    "\n",
    "sentences = [nltk.word_tokenize(sentence) for sentence in sentences]\n",
    "\n",
    "for i in range(len(sentences)):\n",
    "    sentences[i] = [word for word in sentences[i] if word not in stopwords.words('english')]"
   ]
  },
  {
   "cell_type": "code",
   "execution_count": 93,
   "metadata": {},
   "outputs": [
    {
     "data": {
      "text/plain": [
       "[['three', 'visions', 'india', '.'],\n",
       " ['years',\n",
       "  'history',\n",
       "  ',',\n",
       "  'people',\n",
       "  'world',\n",
       "  'come',\n",
       "  'invaded',\n",
       "  'us',\n",
       "  ',',\n",
       "  'captured',\n",
       "  'lands',\n",
       "  ',',\n",
       "  'conquered',\n",
       "  'minds',\n",
       "  '.'],\n",
       " ['alexander',\n",
       "  'onwards',\n",
       "  ',',\n",
       "  'greeks',\n",
       "  ',',\n",
       "  'turks',\n",
       "  ',',\n",
       "  'moguls',\n",
       "  ',',\n",
       "  'portuguese',\n",
       "  ',',\n",
       "  'british',\n",
       "  ',',\n",
       "  'french',\n",
       "  ',',\n",
       "  'dutch',\n",
       "  ',',\n",
       "  'came',\n",
       "  'looted',\n",
       "  'us',\n",
       "  ',',\n",
       "  'took',\n",
       "  '.'],\n",
       " ['yet', 'done', 'nation', '.'],\n",
       " ['conquered', 'anyone', '.'],\n",
       " ['grabbed',\n",
       "  'land',\n",
       "  ',',\n",
       "  'culture',\n",
       "  ',',\n",
       "  'history',\n",
       "  'tried',\n",
       "  'enforce',\n",
       "  'way',\n",
       "  'life',\n",
       "  '.'],\n",
       " ['?'],\n",
       " ['respect', 'freedom', 'others.that', 'first', 'vision', 'freedom', '.'],\n",
       " ['believe',\n",
       "  'india',\n",
       "  'got',\n",
       "  'first',\n",
       "  'vision',\n",
       "  ',',\n",
       "  'started',\n",
       "  'war',\n",
       "  'independence',\n",
       "  '.'],\n",
       " ['freedom', 'must', 'protect', 'nurture', 'build', '.'],\n",
       " ['free', ',', 'one', 'respect', 'us', '.'],\n",
       " ['second', 'vision', 'india', '’', 'development', '.'],\n",
       " ['fifty', 'years', 'developing', 'nation', '.'],\n",
       " ['time', 'see', 'developed', 'nation', '.'],\n",
       " ['among', 'top', 'nations', 'world', 'terms', 'gdp', '.'],\n",
       " ['percent', 'growth', 'rate', 'areas', '.'],\n",
       " ['poverty', 'levels', 'falling', '.'],\n",
       " ['achievements', 'globally', 'recognised', 'today', '.'],\n",
       " ['yet',\n",
       "  'lack',\n",
       "  'self-confidence',\n",
       "  'see',\n",
       "  'developed',\n",
       "  'nation',\n",
       "  ',',\n",
       "  'self-reliant',\n",
       "  'self-assured',\n",
       "  '.'],\n",
       " ['’', 'incorrect', '?'],\n",
       " ['third', 'vision', '.'],\n",
       " ['india', 'must', 'stand', 'world', '.'],\n",
       " ['believe',\n",
       "  'unless',\n",
       "  'india',\n",
       "  'stands',\n",
       "  'world',\n",
       "  ',',\n",
       "  'one',\n",
       "  'respect',\n",
       "  'us',\n",
       "  '.'],\n",
       " ['strength', 'respects', 'strength', '.'],\n",
       " ['must', 'strong', 'military', 'power', 'also', 'economic', 'power', '.'],\n",
       " ['must', 'go', 'hand-in-hand', '.'],\n",
       " ['good', 'fortune', 'worked', 'three', 'great', 'minds', '.'],\n",
       " ['dr.', 'vikram', 'sarabhai', 'dept', '.'],\n",
       " ['space',\n",
       "  ',',\n",
       "  'professor',\n",
       "  'satish',\n",
       "  'dhawan',\n",
       "  ',',\n",
       "  'succeeded',\n",
       "  'dr.',\n",
       "  'brahm',\n",
       "  'prakash',\n",
       "  ',',\n",
       "  'father',\n",
       "  'nuclear',\n",
       "  'material',\n",
       "  '.'],\n",
       " ['lucky',\n",
       "  'worked',\n",
       "  'three',\n",
       "  'closely',\n",
       "  'consider',\n",
       "  'great',\n",
       "  'opportunity',\n",
       "  'life',\n",
       "  '.'],\n",
       " ['see', 'four', 'milestones', 'career']]"
      ]
     },
     "execution_count": 93,
     "metadata": {},
     "output_type": "execute_result"
    }
   ],
   "source": [
    "sentences"
   ]
  },
  {
   "cell_type": "code",
   "execution_count": 90,
   "metadata": {},
   "outputs": [],
   "source": [
    "# Training the Word2Vec model\n",
    "model = Word2Vec(sentences, min_count=1)\n",
    "\n",
    "\n",
    "words = model.wv.vocab"
   ]
  },
  {
   "cell_type": "code",
   "execution_count": 94,
   "metadata": {},
   "outputs": [],
   "source": [
    "# Finding Word Vectors\n",
    "vector = model.wv['poverty']"
   ]
  },
  {
   "cell_type": "code",
   "execution_count": 96,
   "metadata": {},
   "outputs": [],
   "source": [
    "\n",
    "\n",
    "# Most similar words\n",
    "similar = model.wv.most_similar('poverty')"
   ]
  },
  {
   "cell_type": "code",
   "execution_count": 97,
   "metadata": {},
   "outputs": [
    {
     "data": {
      "text/plain": [
       "[('lack', 0.26415085792541504),\n",
       " ('recognised', 0.24427065253257751),\n",
       " ('self-reliant', 0.22911624610424042),\n",
       " ('british', 0.18379822373390198),\n",
       " ('war', 0.18371938169002533),\n",
       " ('fifty', 0.1359984576702118),\n",
       " ('nations', 0.13246512413024902),\n",
       " ('grabbed', 0.13160645961761475),\n",
       " ('come', 0.1313318908214569),\n",
       " ('tried', 0.12990671396255493)]"
      ]
     },
     "execution_count": 97,
     "metadata": {},
     "output_type": "execute_result"
    }
   ],
   "source": [
    "similar"
   ]
  },
  {
   "cell_type": "code",
   "execution_count": 70,
   "metadata": {
    "scrolled": false
   },
   "outputs": [
    {
     "data": {
      "text/plain": [
       "{'three': <gensim.models.keyedvectors.Vocab at 0x23bc1c0f240>,\n",
       " 'visions': <gensim.models.keyedvectors.Vocab at 0x23bc1c0f160>,\n",
       " 'india': <gensim.models.keyedvectors.Vocab at 0x23bc1c0f278>,\n",
       " '.': <gensim.models.keyedvectors.Vocab at 0x23bc1c0ff60>,\n",
       " 'years': <gensim.models.keyedvectors.Vocab at 0x23bc1c0fcc0>,\n",
       " 'history': <gensim.models.keyedvectors.Vocab at 0x23bc1c0f518>,\n",
       " ',': <gensim.models.keyedvectors.Vocab at 0x23bc1c0fba8>,\n",
       " 'people': <gensim.models.keyedvectors.Vocab at 0x23bc1c0fc18>,\n",
       " 'world': <gensim.models.keyedvectors.Vocab at 0x23bc1c0fdd8>,\n",
       " 'come': <gensim.models.keyedvectors.Vocab at 0x23bc1c0f908>,\n",
       " 'invaded': <gensim.models.keyedvectors.Vocab at 0x23bc1c0f860>,\n",
       " 'us': <gensim.models.keyedvectors.Vocab at 0x23bc1c0ffd0>,\n",
       " 'captured': <gensim.models.keyedvectors.Vocab at 0x23bc1c0f2b0>,\n",
       " 'lands': <gensim.models.keyedvectors.Vocab at 0x23bc1c0f7f0>,\n",
       " 'conquered': <gensim.models.keyedvectors.Vocab at 0x23bc1c0fef0>,\n",
       " 'minds': <gensim.models.keyedvectors.Vocab at 0x23bc1c0fac8>,\n",
       " 'alexander': <gensim.models.keyedvectors.Vocab at 0x23bc1c0f5f8>,\n",
       " 'onwards': <gensim.models.keyedvectors.Vocab at 0x23bc1c0f198>,\n",
       " 'greeks': <gensim.models.keyedvectors.Vocab at 0x23bc1c0ff98>,\n",
       " 'turks': <gensim.models.keyedvectors.Vocab at 0x23bc1c0f9b0>,\n",
       " 'moguls': <gensim.models.keyedvectors.Vocab at 0x23bc1c0f048>,\n",
       " 'portuguese': <gensim.models.keyedvectors.Vocab at 0x23bc1c0fa20>,\n",
       " 'british': <gensim.models.keyedvectors.Vocab at 0x23bc1c0f780>,\n",
       " 'french': <gensim.models.keyedvectors.Vocab at 0x23bc1c0fe10>,\n",
       " 'dutch': <gensim.models.keyedvectors.Vocab at 0x23bc1c0f4e0>,\n",
       " 'came': <gensim.models.keyedvectors.Vocab at 0x23bc1c0fc88>,\n",
       " 'looted': <gensim.models.keyedvectors.Vocab at 0x23bc1c0f978>,\n",
       " 'took': <gensim.models.keyedvectors.Vocab at 0x23bc1c0f7b8>,\n",
       " 'yet': <gensim.models.keyedvectors.Vocab at 0x23bc1c0f208>,\n",
       " 'done': <gensim.models.keyedvectors.Vocab at 0x23bc1c0f8d0>,\n",
       " 'nation': <gensim.models.keyedvectors.Vocab at 0x23bc1c0f5c0>,\n",
       " 'anyone': <gensim.models.keyedvectors.Vocab at 0x23bc1c0f710>,\n",
       " 'grabbed': <gensim.models.keyedvectors.Vocab at 0x23bc1c09048>,\n",
       " 'land': <gensim.models.keyedvectors.Vocab at 0x23bc1c094e0>,\n",
       " 'culture': <gensim.models.keyedvectors.Vocab at 0x23bc1c09b00>,\n",
       " 'tried': <gensim.models.keyedvectors.Vocab at 0x23bc1c092b0>,\n",
       " 'enforce': <gensim.models.keyedvectors.Vocab at 0x23bc1c09978>,\n",
       " 'way': <gensim.models.keyedvectors.Vocab at 0x23bc1c09b70>,\n",
       " 'life': <gensim.models.keyedvectors.Vocab at 0x23bc1c09470>,\n",
       " '?': <gensim.models.keyedvectors.Vocab at 0x23bc1c09ac8>,\n",
       " 'respect': <gensim.models.keyedvectors.Vocab at 0x23bc1c09710>,\n",
       " 'freedom': <gensim.models.keyedvectors.Vocab at 0x23bc1c09c88>,\n",
       " 'others.that': <gensim.models.keyedvectors.Vocab at 0x23bc1c09390>,\n",
       " 'first': <gensim.models.keyedvectors.Vocab at 0x23bc1c09a20>,\n",
       " 'vision': <gensim.models.keyedvectors.Vocab at 0x23bc1c092e8>,\n",
       " 'believe': <gensim.models.keyedvectors.Vocab at 0x23bc1c090f0>,\n",
       " 'got': <gensim.models.keyedvectors.Vocab at 0x23bc1c09240>,\n",
       " 'started': <gensim.models.keyedvectors.Vocab at 0x23bc1c095c0>,\n",
       " 'war': <gensim.models.keyedvectors.Vocab at 0x23bc1c099b0>,\n",
       " 'independence': <gensim.models.keyedvectors.Vocab at 0x23bc1c09be0>,\n",
       " 'must': <gensim.models.keyedvectors.Vocab at 0x23bc1c09198>,\n",
       " 'protect': <gensim.models.keyedvectors.Vocab at 0x23bc1c09f98>,\n",
       " 'nurture': <gensim.models.keyedvectors.Vocab at 0x23bc1c097f0>,\n",
       " 'build': <gensim.models.keyedvectors.Vocab at 0x23bc1c09dd8>,\n",
       " 'free': <gensim.models.keyedvectors.Vocab at 0x23bc1c09f60>,\n",
       " 'one': <gensim.models.keyedvectors.Vocab at 0x23bc1c095f8>,\n",
       " 'second': <gensim.models.keyedvectors.Vocab at 0x23bc1c09080>,\n",
       " '’': <gensim.models.keyedvectors.Vocab at 0x23bc1c09cf8>,\n",
       " 'development': <gensim.models.keyedvectors.Vocab at 0x23bc1c27048>,\n",
       " 'fifty': <gensim.models.keyedvectors.Vocab at 0x23bc1c27080>,\n",
       " 'developing': <gensim.models.keyedvectors.Vocab at 0x23bc1c270b8>,\n",
       " 'time': <gensim.models.keyedvectors.Vocab at 0x23bc1c270f0>,\n",
       " 'see': <gensim.models.keyedvectors.Vocab at 0x23bc1c27128>,\n",
       " 'developed': <gensim.models.keyedvectors.Vocab at 0x23bc1c27160>,\n",
       " 'among': <gensim.models.keyedvectors.Vocab at 0x23bc1c27198>,\n",
       " 'top': <gensim.models.keyedvectors.Vocab at 0x23bc1c271d0>,\n",
       " 'nations': <gensim.models.keyedvectors.Vocab at 0x23bc1c27208>,\n",
       " 'terms': <gensim.models.keyedvectors.Vocab at 0x23bc1c27240>,\n",
       " 'gdp': <gensim.models.keyedvectors.Vocab at 0x23bc1c27278>,\n",
       " 'percent': <gensim.models.keyedvectors.Vocab at 0x23bc1c272b0>,\n",
       " 'growth': <gensim.models.keyedvectors.Vocab at 0x23bc1c272e8>,\n",
       " 'rate': <gensim.models.keyedvectors.Vocab at 0x23bc1c27320>,\n",
       " 'areas': <gensim.models.keyedvectors.Vocab at 0x23bc1c27358>,\n",
       " 'poverty': <gensim.models.keyedvectors.Vocab at 0x23bc1c27390>,\n",
       " 'levels': <gensim.models.keyedvectors.Vocab at 0x23bc1c273c8>,\n",
       " 'falling': <gensim.models.keyedvectors.Vocab at 0x23bc1c27400>,\n",
       " 'achievements': <gensim.models.keyedvectors.Vocab at 0x23bc1c27438>,\n",
       " 'globally': <gensim.models.keyedvectors.Vocab at 0x23bc1c27470>,\n",
       " 'recognised': <gensim.models.keyedvectors.Vocab at 0x23bc1c274a8>,\n",
       " 'today': <gensim.models.keyedvectors.Vocab at 0x23bc1c274e0>,\n",
       " 'lack': <gensim.models.keyedvectors.Vocab at 0x23bc1c27518>,\n",
       " 'self-confidence': <gensim.models.keyedvectors.Vocab at 0x23bc1c27550>,\n",
       " 'self-reliant': <gensim.models.keyedvectors.Vocab at 0x23bc1c27588>,\n",
       " 'self-assured': <gensim.models.keyedvectors.Vocab at 0x23bc1c275c0>,\n",
       " 'incorrect': <gensim.models.keyedvectors.Vocab at 0x23bc1c275f8>,\n",
       " 'third': <gensim.models.keyedvectors.Vocab at 0x23bc1c27630>,\n",
       " 'stand': <gensim.models.keyedvectors.Vocab at 0x23bc1c27668>,\n",
       " 'unless': <gensim.models.keyedvectors.Vocab at 0x23bc1c276a0>,\n",
       " 'stands': <gensim.models.keyedvectors.Vocab at 0x23bc1c276d8>,\n",
       " 'strength': <gensim.models.keyedvectors.Vocab at 0x23bc1c27710>,\n",
       " 'respects': <gensim.models.keyedvectors.Vocab at 0x23bc1c27748>,\n",
       " 'strong': <gensim.models.keyedvectors.Vocab at 0x23bc1c27780>,\n",
       " 'military': <gensim.models.keyedvectors.Vocab at 0x23bc1c277b8>,\n",
       " 'power': <gensim.models.keyedvectors.Vocab at 0x23bc1c277f0>,\n",
       " 'also': <gensim.models.keyedvectors.Vocab at 0x23bc1c27828>,\n",
       " 'economic': <gensim.models.keyedvectors.Vocab at 0x23bc1c27860>,\n",
       " 'go': <gensim.models.keyedvectors.Vocab at 0x23bc1c27898>,\n",
       " 'hand-in-hand': <gensim.models.keyedvectors.Vocab at 0x23bc1c278d0>,\n",
       " 'good': <gensim.models.keyedvectors.Vocab at 0x23bc1c27908>,\n",
       " 'fortune': <gensim.models.keyedvectors.Vocab at 0x23bc1c27940>,\n",
       " 'worked': <gensim.models.keyedvectors.Vocab at 0x23bc1c27978>,\n",
       " 'great': <gensim.models.keyedvectors.Vocab at 0x23bc1c279b0>,\n",
       " 'dr.': <gensim.models.keyedvectors.Vocab at 0x23bc1c279e8>,\n",
       " 'vikram': <gensim.models.keyedvectors.Vocab at 0x23bc1c27a20>,\n",
       " 'sarabhai': <gensim.models.keyedvectors.Vocab at 0x23bc1c27a58>,\n",
       " 'dept': <gensim.models.keyedvectors.Vocab at 0x23bc1c27a90>,\n",
       " 'space': <gensim.models.keyedvectors.Vocab at 0x23bc1c27ac8>,\n",
       " 'professor': <gensim.models.keyedvectors.Vocab at 0x23bc1c27b00>,\n",
       " 'satish': <gensim.models.keyedvectors.Vocab at 0x23bc1c27b38>,\n",
       " 'dhawan': <gensim.models.keyedvectors.Vocab at 0x23bc1c27b70>,\n",
       " 'succeeded': <gensim.models.keyedvectors.Vocab at 0x23bc1c27ba8>,\n",
       " 'brahm': <gensim.models.keyedvectors.Vocab at 0x23bc1c27be0>,\n",
       " 'prakash': <gensim.models.keyedvectors.Vocab at 0x23bc1c27c18>,\n",
       " 'father': <gensim.models.keyedvectors.Vocab at 0x23bc1c27c50>,\n",
       " 'nuclear': <gensim.models.keyedvectors.Vocab at 0x23bc1c27c88>,\n",
       " 'material': <gensim.models.keyedvectors.Vocab at 0x23bc1c27cc0>,\n",
       " 'lucky': <gensim.models.keyedvectors.Vocab at 0x23bc1c27cf8>,\n",
       " 'closely': <gensim.models.keyedvectors.Vocab at 0x23bc1c27d30>,\n",
       " 'consider': <gensim.models.keyedvectors.Vocab at 0x23bc1c27d68>,\n",
       " 'opportunity': <gensim.models.keyedvectors.Vocab at 0x23bc1c27da0>,\n",
       " 'four': <gensim.models.keyedvectors.Vocab at 0x23bc1c27dd8>,\n",
       " 'milestones': <gensim.models.keyedvectors.Vocab at 0x23bc1c27e10>,\n",
       " 'career': <gensim.models.keyedvectors.Vocab at 0x23bc1c27e48>}"
      ]
     },
     "execution_count": 70,
     "metadata": {},
     "output_type": "execute_result"
    }
   ],
   "source": [
    "words"
   ]
  },
  {
   "cell_type": "code",
   "execution_count": 79,
   "metadata": {},
   "outputs": [
    {
     "data": {
      "text/plain": [
       "[('power', 0.21583423018455505),\n",
       " ('achievements', 0.19465681910514832),\n",
       " ('second', 0.16656148433685303),\n",
       " ('british', 0.16103875637054443),\n",
       " ('greeks', 0.15017329156398773),\n",
       " ('great', 0.13979315757751465),\n",
       " ('years', 0.12900832295417786),\n",
       " ('moguls', 0.12779279053211212),\n",
       " ('career', 0.1181953176856041),\n",
       " ('french', 0.11718105524778366)]"
      ]
     },
     "execution_count": 79,
     "metadata": {},
     "output_type": "execute_result"
    }
   ],
   "source": [
    "similar"
   ]
  },
  {
   "cell_type": "code",
   "execution_count": 77,
   "metadata": {},
   "outputs": [
    {
     "data": {
      "text/plain": [
       "array([-0.00243756,  0.00361424, -0.0024623 ,  0.00409202, -0.00493153,\n",
       "       -0.00150608,  0.00158464, -0.00057306,  0.00217148,  0.00309323,\n",
       "        0.00070056, -0.00170639,  0.00258754,  0.00026988, -0.00418538,\n",
       "       -0.00060182,  0.00086507,  0.00264049,  0.00370845, -0.00093157,\n",
       "        0.00378866,  0.00379341, -0.00477903, -0.00176723, -0.00267926,\n",
       "        0.00480168,  0.00033179, -0.00458346,  0.00464887, -0.00320701,\n",
       "        0.00293073, -0.00471018,  0.00329336,  0.00457909, -0.00320173,\n",
       "        0.00480363, -0.00046222,  0.0021014 ,  0.00150671, -0.00457314,\n",
       "        0.00265473, -0.00313723, -0.00402005,  0.00153246, -0.00479504,\n",
       "       -0.00336751, -0.00406771,  0.00182415,  0.00479794,  0.00344669,\n",
       "       -0.00166597, -0.00444662,  0.0026823 ,  0.00249499,  0.00495304,\n",
       "       -0.00137497,  0.00322899,  0.00377661,  0.00056082,  0.00416503,\n",
       "        0.00056901, -0.00478659,  0.004745  ,  0.00325015, -0.00499505,\n",
       "        0.00103441, -0.0047953 , -0.00142472, -0.00231145, -0.00356098,\n",
       "       -0.00077606,  0.0032541 , -0.00115371,  0.00020196,  0.00480347,\n",
       "        0.00193037, -0.00299718,  0.00243135, -0.00185249,  0.001759  ,\n",
       "       -0.00296807, -0.00045167,  0.00432645,  0.0033556 ,  0.00376429,\n",
       "       -0.00349223, -0.00427551,  0.00472218, -0.00210767,  0.00405487,\n",
       "        0.00043623, -0.0001749 ,  0.00195619,  0.00137443,  0.00303009,\n",
       "       -0.0010233 , -0.00445487, -0.00185248, -0.00189256,  0.00110018],\n",
       "      dtype=float32)"
      ]
     },
     "execution_count": 77,
     "metadata": {},
     "output_type": "execute_result"
    }
   ],
   "source": [
    "vector"
   ]
  },
  {
   "cell_type": "code",
   "execution_count": 12,
   "metadata": {},
   "outputs": [
    {
     "ename": "KeyError",
     "evalue": "\"word 'war' not in vocabulary\"",
     "output_type": "error",
     "traceback": [
      "\u001b[1;31m---------------------------------------------------------------------------\u001b[0m",
      "\u001b[1;31mKeyError\u001b[0m                                  Traceback (most recent call last)",
      "\u001b[1;32m<ipython-input-12-7228588cc12d>\u001b[0m in \u001b[0;36m<module>\u001b[1;34m\u001b[0m\n\u001b[0;32m      1\u001b[0m \u001b[1;31m# Finding Word Vectors\u001b[0m\u001b[1;33m\u001b[0m\u001b[1;33m\u001b[0m\u001b[1;33m\u001b[0m\u001b[0m\n\u001b[1;32m----> 2\u001b[1;33m \u001b[0mvector\u001b[0m \u001b[1;33m=\u001b[0m \u001b[0mmodel\u001b[0m\u001b[1;33m.\u001b[0m\u001b[0mwv\u001b[0m\u001b[1;33m[\u001b[0m\u001b[1;34m'war'\u001b[0m\u001b[1;33m]\u001b[0m\u001b[1;33m\u001b[0m\u001b[1;33m\u001b[0m\u001b[0m\n\u001b[0m\u001b[0;32m      3\u001b[0m \u001b[1;33m\u001b[0m\u001b[0m\n\u001b[0;32m      4\u001b[0m \u001b[1;31m# Most similar words\u001b[0m\u001b[1;33m\u001b[0m\u001b[1;33m\u001b[0m\u001b[1;33m\u001b[0m\u001b[0m\n\u001b[0;32m      5\u001b[0m \u001b[0msimilar\u001b[0m \u001b[1;33m=\u001b[0m \u001b[0mmodel\u001b[0m\u001b[1;33m.\u001b[0m\u001b[0mwv\u001b[0m\u001b[1;33m.\u001b[0m\u001b[0mmost_similar\u001b[0m\u001b[1;33m(\u001b[0m\u001b[1;34m'vikram'\u001b[0m\u001b[1;33m)\u001b[0m\u001b[1;33m\u001b[0m\u001b[1;33m\u001b[0m\u001b[0m\n",
      "\u001b[1;32m~\\anaconda3\\envs\\tensorflow_env\\lib\\site-packages\\gensim\\models\\keyedvectors.py\u001b[0m in \u001b[0;36m__getitem__\u001b[1;34m(self, entities)\u001b[0m\n\u001b[0;32m    351\u001b[0m         \u001b[1;32mif\u001b[0m \u001b[0misinstance\u001b[0m\u001b[1;33m(\u001b[0m\u001b[0mentities\u001b[0m\u001b[1;33m,\u001b[0m \u001b[0mstring_types\u001b[0m\u001b[1;33m)\u001b[0m\u001b[1;33m:\u001b[0m\u001b[1;33m\u001b[0m\u001b[1;33m\u001b[0m\u001b[0m\n\u001b[0;32m    352\u001b[0m             \u001b[1;31m# allow calls like trained_model['office'], as a shorthand for trained_model[['office']]\u001b[0m\u001b[1;33m\u001b[0m\u001b[1;33m\u001b[0m\u001b[1;33m\u001b[0m\u001b[0m\n\u001b[1;32m--> 353\u001b[1;33m             \u001b[1;32mreturn\u001b[0m \u001b[0mself\u001b[0m\u001b[1;33m.\u001b[0m\u001b[0mget_vector\u001b[0m\u001b[1;33m(\u001b[0m\u001b[0mentities\u001b[0m\u001b[1;33m)\u001b[0m\u001b[1;33m\u001b[0m\u001b[1;33m\u001b[0m\u001b[0m\n\u001b[0m\u001b[0;32m    354\u001b[0m \u001b[1;33m\u001b[0m\u001b[0m\n\u001b[0;32m    355\u001b[0m         \u001b[1;32mreturn\u001b[0m \u001b[0mvstack\u001b[0m\u001b[1;33m(\u001b[0m\u001b[1;33m[\u001b[0m\u001b[0mself\u001b[0m\u001b[1;33m.\u001b[0m\u001b[0mget_vector\u001b[0m\u001b[1;33m(\u001b[0m\u001b[0mentity\u001b[0m\u001b[1;33m)\u001b[0m \u001b[1;32mfor\u001b[0m \u001b[0mentity\u001b[0m \u001b[1;32min\u001b[0m \u001b[0mentities\u001b[0m\u001b[1;33m]\u001b[0m\u001b[1;33m)\u001b[0m\u001b[1;33m\u001b[0m\u001b[1;33m\u001b[0m\u001b[0m\n",
      "\u001b[1;32m~\\anaconda3\\envs\\tensorflow_env\\lib\\site-packages\\gensim\\models\\keyedvectors.py\u001b[0m in \u001b[0;36mget_vector\u001b[1;34m(self, word)\u001b[0m\n\u001b[0;32m    469\u001b[0m \u001b[1;33m\u001b[0m\u001b[0m\n\u001b[0;32m    470\u001b[0m     \u001b[1;32mdef\u001b[0m \u001b[0mget_vector\u001b[0m\u001b[1;33m(\u001b[0m\u001b[0mself\u001b[0m\u001b[1;33m,\u001b[0m \u001b[0mword\u001b[0m\u001b[1;33m)\u001b[0m\u001b[1;33m:\u001b[0m\u001b[1;33m\u001b[0m\u001b[1;33m\u001b[0m\u001b[0m\n\u001b[1;32m--> 471\u001b[1;33m         \u001b[1;32mreturn\u001b[0m \u001b[0mself\u001b[0m\u001b[1;33m.\u001b[0m\u001b[0mword_vec\u001b[0m\u001b[1;33m(\u001b[0m\u001b[0mword\u001b[0m\u001b[1;33m)\u001b[0m\u001b[1;33m\u001b[0m\u001b[1;33m\u001b[0m\u001b[0m\n\u001b[0m\u001b[0;32m    472\u001b[0m \u001b[1;33m\u001b[0m\u001b[0m\n\u001b[0;32m    473\u001b[0m     \u001b[1;32mdef\u001b[0m \u001b[0mwords_closer_than\u001b[0m\u001b[1;33m(\u001b[0m\u001b[0mself\u001b[0m\u001b[1;33m,\u001b[0m \u001b[0mw1\u001b[0m\u001b[1;33m,\u001b[0m \u001b[0mw2\u001b[0m\u001b[1;33m)\u001b[0m\u001b[1;33m:\u001b[0m\u001b[1;33m\u001b[0m\u001b[1;33m\u001b[0m\u001b[0m\n",
      "\u001b[1;32m~\\anaconda3\\envs\\tensorflow_env\\lib\\site-packages\\gensim\\models\\keyedvectors.py\u001b[0m in \u001b[0;36mword_vec\u001b[1;34m(self, word, use_norm)\u001b[0m\n\u001b[0;32m    466\u001b[0m             \u001b[1;32mreturn\u001b[0m \u001b[0mresult\u001b[0m\u001b[1;33m\u001b[0m\u001b[1;33m\u001b[0m\u001b[0m\n\u001b[0;32m    467\u001b[0m         \u001b[1;32melse\u001b[0m\u001b[1;33m:\u001b[0m\u001b[1;33m\u001b[0m\u001b[1;33m\u001b[0m\u001b[0m\n\u001b[1;32m--> 468\u001b[1;33m             \u001b[1;32mraise\u001b[0m \u001b[0mKeyError\u001b[0m\u001b[1;33m(\u001b[0m\u001b[1;34m\"word '%s' not in vocabulary\"\u001b[0m \u001b[1;33m%\u001b[0m \u001b[0mword\u001b[0m\u001b[1;33m)\u001b[0m\u001b[1;33m\u001b[0m\u001b[1;33m\u001b[0m\u001b[0m\n\u001b[0m\u001b[0;32m    469\u001b[0m \u001b[1;33m\u001b[0m\u001b[0m\n\u001b[0;32m    470\u001b[0m     \u001b[1;32mdef\u001b[0m \u001b[0mget_vector\u001b[0m\u001b[1;33m(\u001b[0m\u001b[0mself\u001b[0m\u001b[1;33m,\u001b[0m \u001b[0mword\u001b[0m\u001b[1;33m)\u001b[0m\u001b[1;33m:\u001b[0m\u001b[1;33m\u001b[0m\u001b[1;33m\u001b[0m\u001b[0m\n",
      "\u001b[1;31mKeyError\u001b[0m: \"word 'war' not in vocabulary\""
     ]
    }
   ],
   "source": [
    "\n",
    "\n",
    "# Most similar words\n",
    "similar = model.wv.most_similar('vikram')"
   ]
  },
  {
   "cell_type": "code",
   "execution_count": 12,
   "metadata": {},
   "outputs": [
    {
     "ename": "KeyError",
     "evalue": "\"word 'war' not in vocabulary\"",
     "output_type": "error",
     "traceback": [
      "\u001b[1;31m---------------------------------------------------------------------------\u001b[0m",
      "\u001b[1;31mKeyError\u001b[0m                                  Traceback (most recent call last)",
      "\u001b[1;32m<ipython-input-12-7228588cc12d>\u001b[0m in \u001b[0;36m<module>\u001b[1;34m\u001b[0m\n\u001b[0;32m      1\u001b[0m \u001b[1;31m# Finding Word Vectors\u001b[0m\u001b[1;33m\u001b[0m\u001b[1;33m\u001b[0m\u001b[1;33m\u001b[0m\u001b[0m\n\u001b[1;32m----> 2\u001b[1;33m \u001b[0mvector\u001b[0m \u001b[1;33m=\u001b[0m \u001b[0mmodel\u001b[0m\u001b[1;33m.\u001b[0m\u001b[0mwv\u001b[0m\u001b[1;33m[\u001b[0m\u001b[1;34m'war'\u001b[0m\u001b[1;33m]\u001b[0m\u001b[1;33m\u001b[0m\u001b[1;33m\u001b[0m\u001b[0m\n\u001b[0m\u001b[0;32m      3\u001b[0m \u001b[1;33m\u001b[0m\u001b[0m\n\u001b[0;32m      4\u001b[0m \u001b[1;31m# Most similar words\u001b[0m\u001b[1;33m\u001b[0m\u001b[1;33m\u001b[0m\u001b[1;33m\u001b[0m\u001b[0m\n\u001b[0;32m      5\u001b[0m \u001b[0msimilar\u001b[0m \u001b[1;33m=\u001b[0m \u001b[0mmodel\u001b[0m\u001b[1;33m.\u001b[0m\u001b[0mwv\u001b[0m\u001b[1;33m.\u001b[0m\u001b[0mmost_similar\u001b[0m\u001b[1;33m(\u001b[0m\u001b[1;34m'vikram'\u001b[0m\u001b[1;33m)\u001b[0m\u001b[1;33m\u001b[0m\u001b[1;33m\u001b[0m\u001b[0m\n",
      "\u001b[1;32m~\\anaconda3\\envs\\tensorflow_env\\lib\\site-packages\\gensim\\models\\keyedvectors.py\u001b[0m in \u001b[0;36m__getitem__\u001b[1;34m(self, entities)\u001b[0m\n\u001b[0;32m    351\u001b[0m         \u001b[1;32mif\u001b[0m \u001b[0misinstance\u001b[0m\u001b[1;33m(\u001b[0m\u001b[0mentities\u001b[0m\u001b[1;33m,\u001b[0m \u001b[0mstring_types\u001b[0m\u001b[1;33m)\u001b[0m\u001b[1;33m:\u001b[0m\u001b[1;33m\u001b[0m\u001b[1;33m\u001b[0m\u001b[0m\n\u001b[0;32m    352\u001b[0m             \u001b[1;31m# allow calls like trained_model['office'], as a shorthand for trained_model[['office']]\u001b[0m\u001b[1;33m\u001b[0m\u001b[1;33m\u001b[0m\u001b[1;33m\u001b[0m\u001b[0m\n\u001b[1;32m--> 353\u001b[1;33m             \u001b[1;32mreturn\u001b[0m \u001b[0mself\u001b[0m\u001b[1;33m.\u001b[0m\u001b[0mget_vector\u001b[0m\u001b[1;33m(\u001b[0m\u001b[0mentities\u001b[0m\u001b[1;33m)\u001b[0m\u001b[1;33m\u001b[0m\u001b[1;33m\u001b[0m\u001b[0m\n\u001b[0m\u001b[0;32m    354\u001b[0m \u001b[1;33m\u001b[0m\u001b[0m\n\u001b[0;32m    355\u001b[0m         \u001b[1;32mreturn\u001b[0m \u001b[0mvstack\u001b[0m\u001b[1;33m(\u001b[0m\u001b[1;33m[\u001b[0m\u001b[0mself\u001b[0m\u001b[1;33m.\u001b[0m\u001b[0mget_vector\u001b[0m\u001b[1;33m(\u001b[0m\u001b[0mentity\u001b[0m\u001b[1;33m)\u001b[0m \u001b[1;32mfor\u001b[0m \u001b[0mentity\u001b[0m \u001b[1;32min\u001b[0m \u001b[0mentities\u001b[0m\u001b[1;33m]\u001b[0m\u001b[1;33m)\u001b[0m\u001b[1;33m\u001b[0m\u001b[1;33m\u001b[0m\u001b[0m\n",
      "\u001b[1;32m~\\anaconda3\\envs\\tensorflow_env\\lib\\site-packages\\gensim\\models\\keyedvectors.py\u001b[0m in \u001b[0;36mget_vector\u001b[1;34m(self, word)\u001b[0m\n\u001b[0;32m    469\u001b[0m \u001b[1;33m\u001b[0m\u001b[0m\n\u001b[0;32m    470\u001b[0m     \u001b[1;32mdef\u001b[0m \u001b[0mget_vector\u001b[0m\u001b[1;33m(\u001b[0m\u001b[0mself\u001b[0m\u001b[1;33m,\u001b[0m \u001b[0mword\u001b[0m\u001b[1;33m)\u001b[0m\u001b[1;33m:\u001b[0m\u001b[1;33m\u001b[0m\u001b[1;33m\u001b[0m\u001b[0m\n\u001b[1;32m--> 471\u001b[1;33m         \u001b[1;32mreturn\u001b[0m \u001b[0mself\u001b[0m\u001b[1;33m.\u001b[0m\u001b[0mword_vec\u001b[0m\u001b[1;33m(\u001b[0m\u001b[0mword\u001b[0m\u001b[1;33m)\u001b[0m\u001b[1;33m\u001b[0m\u001b[1;33m\u001b[0m\u001b[0m\n\u001b[0m\u001b[0;32m    472\u001b[0m \u001b[1;33m\u001b[0m\u001b[0m\n\u001b[0;32m    473\u001b[0m     \u001b[1;32mdef\u001b[0m \u001b[0mwords_closer_than\u001b[0m\u001b[1;33m(\u001b[0m\u001b[0mself\u001b[0m\u001b[1;33m,\u001b[0m \u001b[0mw1\u001b[0m\u001b[1;33m,\u001b[0m \u001b[0mw2\u001b[0m\u001b[1;33m)\u001b[0m\u001b[1;33m:\u001b[0m\u001b[1;33m\u001b[0m\u001b[1;33m\u001b[0m\u001b[0m\n",
      "\u001b[1;32m~\\anaconda3\\envs\\tensorflow_env\\lib\\site-packages\\gensim\\models\\keyedvectors.py\u001b[0m in \u001b[0;36mword_vec\u001b[1;34m(self, word, use_norm)\u001b[0m\n\u001b[0;32m    466\u001b[0m             \u001b[1;32mreturn\u001b[0m \u001b[0mresult\u001b[0m\u001b[1;33m\u001b[0m\u001b[1;33m\u001b[0m\u001b[0m\n\u001b[0;32m    467\u001b[0m         \u001b[1;32melse\u001b[0m\u001b[1;33m:\u001b[0m\u001b[1;33m\u001b[0m\u001b[1;33m\u001b[0m\u001b[0m\n\u001b[1;32m--> 468\u001b[1;33m             \u001b[1;32mraise\u001b[0m \u001b[0mKeyError\u001b[0m\u001b[1;33m(\u001b[0m\u001b[1;34m\"word '%s' not in vocabulary\"\u001b[0m \u001b[1;33m%\u001b[0m \u001b[0mword\u001b[0m\u001b[1;33m)\u001b[0m\u001b[1;33m\u001b[0m\u001b[1;33m\u001b[0m\u001b[0m\n\u001b[0m\u001b[0;32m    469\u001b[0m \u001b[1;33m\u001b[0m\u001b[0m\n\u001b[0;32m    470\u001b[0m     \u001b[1;32mdef\u001b[0m \u001b[0mget_vector\u001b[0m\u001b[1;33m(\u001b[0m\u001b[0mself\u001b[0m\u001b[1;33m,\u001b[0m \u001b[0mword\u001b[0m\u001b[1;33m)\u001b[0m\u001b[1;33m:\u001b[0m\u001b[1;33m\u001b[0m\u001b[1;33m\u001b[0m\u001b[0m\n",
      "\u001b[1;31mKeyError\u001b[0m: \"word 'war' not in vocabulary\""
     ]
    }
   ],
   "source": [
    "# Finding Word Vectors\n",
    "vector = model.wv['war']\n",
    "\n",
    "# Most similar words\n",
    "similar = model.wv.most_similar('vikram')"
   ]
  },
  {
   "cell_type": "code",
   "execution_count": 7,
   "metadata": {},
   "outputs": [
    {
     "data": {
      "text/plain": [
       "[('nuclear', 0.23991525173187256),\n",
       " ('onwards', 0.2315368950366974),\n",
       " ('unless', 0.22574254870414734),\n",
       " ('material', 0.21479272842407227),\n",
       " ('recognised', 0.18286946415901184),\n",
       " ('milestones', 0.1716446578502655),\n",
       " ('invaded', 0.15191498398780823),\n",
       " ('moguls', 0.13229946792125702),\n",
       " ('nations', 0.11504697799682617),\n",
       " ('looted', 0.11368072032928467)]"
      ]
     },
     "execution_count": 7,
     "metadata": {},
     "output_type": "execute_result"
    }
   ],
   "source": [
    "similar"
   ]
  },
  {
   "cell_type": "code",
   "execution_count": null,
   "metadata": {},
   "outputs": [],
   "source": []
  }
 ],
 "metadata": {
  "kernelspec": {
   "display_name": "Python 3",
   "language": "python",
   "name": "python3"
  },
  "language_info": {
   "codemirror_mode": {
    "name": "ipython",
    "version": 3
   },
   "file_extension": ".py",
   "mimetype": "text/x-python",
   "name": "python",
   "nbconvert_exporter": "python",
   "pygments_lexer": "ipython3",
   "version": "3.6.10"
  }
 },
 "nbformat": 4,
 "nbformat_minor": 4
}
