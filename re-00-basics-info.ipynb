{
 "cells": [
  {
   "cell_type": "code",
   "execution_count": 68,
   "metadata": {},
   "outputs": [],
   "source": [
    "import re"
   ]
  },
  {
   "cell_type": "markdown",
   "metadata": {},
   "source": [
    "## Literal Characters\n",
    "\n",
    "- The most basic regular expression consists of a __single literal__ character, such as $a$. \n",
    "- It matches the first occurrence of that character in the string. \n",
    "- If the string is __Jack is a boy__, it matches the __a__ after the __J__. \n",
    "- The fact that this __a__ is in the middle of the word does not matter to the regex engine. \n",
    "    - we can tell that to the regex engine by using __word boundaries__. \n",
    "\n",
    "- This regex can match the second __a__ too. It only does so when we tell the regex engine to start searching through the string after the first match.\n",
    "    \n",
    "Similarly, the regex __cat__ matches __cat__ in __About cats and dogs__. \n",
    "\n",
    "- This regular expression consists of a series of 3 literal characters. This is like saying to the regex engine: find a __c__, immediately followed by an __a__, immediately followed by a __t__.\n",
    "\n",
    "Note that regex engines are __case sensitive__ by default. unless we tell the regex engine to ignore differences in case."
   ]
  },
  {
   "cell_type": "markdown",
   "metadata": {},
   "source": [
    "## Special Characters\n",
    "\n",
    "- Because we want to do more than __simply search__ for literal pieces of text, we need to __reserve certain characters for special use__. \n",
    "\n",
    "- there are 12 characters with special meanings: \n",
    "\n",
    "    - the backslash \\\n",
    "    - the caret ^\n",
    "    - the dollar sign \n",
    "    - the period or dot .\n",
    "    - the vertical bar or pipe symbol |\n",
    "    - the question mark ?\n",
    "    - the asterisk or star *\n",
    "    - the plus sign +\n",
    "    - the opening parenthesis (\n",
    "    - the closing parenthesis )\n",
    "    - the opening square bracket [\n",
    "    - and the opening curly brace { \n",
    "    \n",
    "These special characters are often called “metacharacters”. Most of them are errors when used alone.\n",
    "\n",
    "- escape with \\ if we want to use the above as literal char. \n",
    "    - to match __1+1=2__, the correct regex is __1\\\\+1=2__. "
   ]
  },
  {
   "cell_type": "markdown",
   "metadata": {},
   "source": [
    "## How a Regex Engine Works Internally\n",
    "\n",
    "- When applying a __regex__ to a string, the engine starts at the first character of the string. It tries all possible permutations of the regular expression at the __first character__. \n",
    "\n",
    "- Only if all possibilities have been tried and found to __fail__, does the engine continue with the __second character__ in the text. \n",
    "\n",
    "- Again, it tries all possible permutations of the regex, in exactly the same order. \n",
    "\n",
    "- The result is that the regex engine returns the __leftmost match__.\n",
    "\n",
    "- When applying __cat__ to __He captured a catfish for his cat__., \n",
    "    - the engine tries to match the first token in the regex c to the __first character__ in the match __H__. \n",
    "    - This fails. \n",
    "    - There are no other possible permutations of this regex, because it merely consists of a sequence of literal characters.\n",
    "    - So the regex engine tries to match the __c__ with the __e__. This fails too, as does matching the __c__ with the space. \n",
    "    - Arriving at the 4th character in the string, __c__ matches __c__. \n",
    "    - The engine then tries to match the second token __a__ to the 5th character, __a__. This succeeds too. \n",
    "    - But then, __t__ fails to match __p__. \n",
    "    - At that point, the engine knows the regex __cannot__ be matched starting at the __4th characterv in the string. \n",
    "    - So it continues with the __5th__: a. \n",
    "    - Again, __c__ fails to match here and the engine carries on. \n",
    "    - At the 15th character in the string, __c__ again matches __c__. \n",
    "    - The engine then proceeds to attempt to match the remainder of the regex at character 15 and finds that __a__ matches __a__ and __t__ matches __t__.\n",
    "\n",
    "- The entire regular expression could be matched starting at character 15. \n",
    "- The engine is “eager” to report a match. It therefore reports the first 3 letters of catfish as a valid match. \n",
    "- The engine never proceeds beyond this point to see if there are any “better” matches. The first match is considered good enough.\n"
   ]
  },
  {
   "cell_type": "markdown",
   "metadata": {},
   "source": [
    "## Character Classes or Character Sets\n",
    "\n",
    "With a “character class”, also called “character set”, we can tell the regex engine to match only one out of several characters. \n",
    "\n",
    "Simply place the characters we want to match between __square brackets__. \n",
    "\n",
    "If we want to match an __a__ or an __e__, use __[ae]__. You could use this in __gr[ae]y__ to match either __gray__ or __grey__. "
   ]
  },
  {
   "cell_type": "code",
   "execution_count": 69,
   "metadata": {},
   "outputs": [
    {
     "data": {
      "text/plain": [
       "<re.Match object; span=(0, 4), match='grey'>"
      ]
     },
     "execution_count": 69,
     "metadata": {},
     "output_type": "execute_result"
    }
   ],
   "source": [
    "re.search(r'gr[ae]y', 'grey gray')\n",
    "#gray\n",
    "#grey"
   ]
  },
  {
   "cell_type": "markdown",
   "metadata": {},
   "source": [
    "A character class matches only a __single character__. \n",
    "\n",
    "__gr[ae]y__ does not match __graay__, __graey__ \n",
    "\n",
    "The order of the characters inside a character class does not matter. "
   ]
  },
  {
   "cell_type": "code",
   "execution_count": 70,
   "metadata": {},
   "outputs": [],
   "source": [
    "re.search(r'gr[ae]y', 'graey')   # No find\n",
    "#grey"
   ]
  },
  {
   "cell_type": "code",
   "execution_count": 71,
   "metadata": {},
   "outputs": [],
   "source": [
    "re.search(r'gr[ae]y', 'greay')   # No find\n"
   ]
  },
  {
   "cell_type": "code",
   "execution_count": 72,
   "metadata": {},
   "outputs": [
    {
     "data": {
      "text/plain": [
       "<re.Match object; span=(0, 4), match='grey'>"
      ]
     },
     "execution_count": 72,
     "metadata": {},
     "output_type": "execute_result"
    }
   ],
   "source": [
    "re.search(r'gr[ae]y', 'greyy')   # find\n",
    "#grey"
   ]
  },
  {
   "cell_type": "code",
   "execution_count": 6,
   "metadata": {},
   "outputs": [],
   "source": [
    "re.search(r'gr[ae]y', 'greey')   # No find"
   ]
  },
  {
   "cell_type": "code",
   "execution_count": 7,
   "metadata": {},
   "outputs": [],
   "source": [
    "re.search(r'gr[ae]y', 'graay')   # No find"
   ]
  },
  {
   "cell_type": "markdown",
   "metadata": {},
   "source": [
    "We can use a hyphen inside a character class to specify a range of characters. \n",
    "\n",
    "[0-9] matches a single digit between 0 and 9. We can use more than one range. [0-9a-fA-F] matches a __single__ hexadecimal digit, case insensitively. \n",
    "\n",
    "You can combine ranges and single characters. [0-9a-fxA-FX] matches a hexadecimal digit or the letter X. \n",
    "\n",
    "Again, the order of the characters and the ranges does not matter.\n",
    "\n",
    "> You can find a word, even if it is misspelled, "
   ]
  },
  {
   "cell_type": "code",
   "execution_count": 73,
   "metadata": {},
   "outputs": [
    {
     "data": {
      "text/plain": [
       "['bks3move']"
      ]
     },
     "execution_count": 73,
     "metadata": {},
     "output_type": "execute_result"
    }
   ],
   "source": [
    "re.findall(r'bks[0-9]move', 'bks3move bks303move')   # find"
   ]
  },
  {
   "cell_type": "code",
   "execution_count": 74,
   "metadata": {},
   "outputs": [
    {
     "data": {
      "text/plain": [
       "['popcornA', 'popcornA', 'popcorna']"
      ]
     },
     "execution_count": 74,
     "metadata": {},
     "output_type": "execute_result"
    }
   ],
   "source": [
    "re.findall(r'popcorn[0-9a-fA-F]', 'popcornA popcornAI popcorna') # find"
   ]
  },
  {
   "cell_type": "code",
   "execution_count": 75,
   "metadata": {},
   "outputs": [
    {
     "data": {
      "text/plain": [
       "<re.Match object; span=(0, 8), match='seperete'>"
      ]
     },
     "execution_count": 75,
     "metadata": {},
     "output_type": "execute_result"
    }
   ],
   "source": [
    "re.search(r'sep[ae]r[ae]te', 'seperete') #  find"
   ]
  },
  {
   "cell_type": "code",
   "execution_count": 76,
   "metadata": {},
   "outputs": [
    {
     "data": {
      "text/plain": [
       "<re.Match object; span=(0, 1), match='a'>"
      ]
     },
     "execution_count": 76,
     "metadata": {},
     "output_type": "execute_result"
    }
   ],
   "source": [
    "re.search(r'[abc]', 'ac')"
   ]
  },
  {
   "cell_type": "code",
   "execution_count": 77,
   "metadata": {},
   "outputs": [
    {
     "data": {
      "text/plain": [
       "<re.Match object; span=(0, 1), match='a'>"
      ]
     },
     "execution_count": 77,
     "metadata": {},
     "output_type": "execute_result"
    }
   ],
   "source": [
    "re.search(r'[abc]', 'ac cd')"
   ]
  },
  {
   "cell_type": "markdown",
   "metadata": {},
   "source": [
    "## Negated Character Classes\n",
    "\n",
    "Typing a __caret__ after the opening square bracket __negates__ the character class. \n",
    "\n",
    "The result is that the character class matches any character that is __not__ in the character class. \n",
    "\n",
    "Unlike the __dot__, __negated character classes__ also match (invisible) __line break__ characters. \n",
    "\n",
    "If you don’t want a negated character class to match line breaks, you need to include the line break characters in the class. \n",
    "\n",
    "[^0-9\\r\\n] matches any character that is not a digit or a line break."
   ]
  },
  {
   "cell_type": "code",
   "execution_count": 13,
   "metadata": {},
   "outputs": [
    {
     "data": {
      "text/plain": [
       "<re.Match object; span=(0, 1), match='p'>"
      ]
     },
     "execution_count": 13,
     "metadata": {},
     "output_type": "execute_result"
    }
   ],
   "source": [
    "re.search(r'[^0-9\\r\\n]', 'popc6666orn.ai') #  find"
   ]
  },
  {
   "cell_type": "code",
   "execution_count": 14,
   "metadata": {},
   "outputs": [],
   "source": [
    "re.search(r'q[^u]', 'iraq') #  no find"
   ]
  },
  {
   "cell_type": "code",
   "execution_count": 15,
   "metadata": {},
   "outputs": [
    {
     "data": {
      "text/plain": [
       "<re.Match object; span=(3, 5), match='qi'>"
      ]
     },
     "execution_count": 15,
     "metadata": {},
     "output_type": "execute_result"
    }
   ],
   "source": [
    "re.search(r'q[^u]', 'iraqi') #  find"
   ]
  },
  {
   "cell_type": "markdown",
   "metadata": {},
   "source": [
    "## Metacharacters Inside Character Classes\n",
    "\n",
    "- the only special characters or metacharacters inside a character class are the __closing bracket ]__, the __backslash \\__, the __caret ^__, and the __hyphen -__. \n",
    "\n",
    "The usual metacharacters are normal characters inside a character class, and do not need to be escaped by a backslash. \n",
    "\n",
    "To search for a star or plus, use __[+*]__\n",
    "\n",
    "To include a backslash as a character without any special meaning inside a character class, we have to escape it with another backslash. \n",
    "    __[\\\\\\x]__ matches a backslash or an x."
   ]
  },
  {
   "cell_type": "code",
   "execution_count": 78,
   "metadata": {},
   "outputs": [
    {
     "data": {
      "text/plain": [
       "<re.Match object; span=(0, 7), match='Hello !'>"
      ]
     },
     "execution_count": 78,
     "metadata": {},
     "output_type": "execute_result"
    }
   ],
   "source": [
    "re.search(r'Hello [@%&*$#!]', 'Hello !! Hello ##') "
   ]
  },
  {
   "cell_type": "code",
   "execution_count": 79,
   "metadata": {},
   "outputs": [
    {
     "data": {
      "text/plain": [
       "['Hello !', 'Hello #']"
      ]
     },
     "execution_count": 79,
     "metadata": {},
     "output_type": "execute_result"
    }
   ],
   "source": [
    "re.findall(r'Hello [@%&*$#!]', 'Hello !! Hello ##') "
   ]
  },
  {
   "cell_type": "code",
   "execution_count": 18,
   "metadata": {},
   "outputs": [
    {
     "data": {
      "text/plain": [
       "<re.Match object; span=(0, 7), match='Hello #'>"
      ]
     },
     "execution_count": 18,
     "metadata": {},
     "output_type": "execute_result"
    }
   ],
   "source": [
    "re.search(r'Hello [@%&*$#!]', 'Hello #') "
   ]
  },
  {
   "cell_type": "markdown",
   "metadata": {},
   "source": [
    "## Character Class Subtraction\n",
    "\n",
    "match any single character present in one list (the character class), but not present in another list (the subtracted class). \n",
    "\n",
    "The syntax for this is __[class-[subtract]]__.\n",
    "\n",
    "The character class __[a-z-[aeiuo]]__ matches a single letter that is not a vowel. \n",
    "\n",
    "In other words: it matches a single consonant. \n",
    "\n",
    "Without character class subtraction or intersection, the only way to do this would be to list all consonants: __[b-df-hj-np-tv-z]__."
   ]
  },
  {
   "cell_type": "code",
   "execution_count": 19,
   "metadata": {},
   "outputs": [
    {
     "data": {
      "text/plain": [
       "['o']"
      ]
     },
     "execution_count": 19,
     "metadata": {},
     "output_type": "execute_result"
    }
   ],
   "source": [
    "re.findall(r'[aeiou]', 'yyyy god ') "
   ]
  },
  {
   "cell_type": "code",
   "execution_count": 20,
   "metadata": {},
   "outputs": [
    {
     "data": {
      "text/plain": [
       "[]"
      ]
     },
     "execution_count": 20,
     "metadata": {},
     "output_type": "execute_result"
    }
   ],
   "source": [
    "re.findall(r'[a-z-[aeiou]]', 'yyyy god ') "
   ]
  },
  {
   "cell_type": "code",
   "execution_count": 21,
   "metadata": {},
   "outputs": [
    {
     "data": {
      "text/plain": [
       "[]"
      ]
     },
     "execution_count": 21,
     "metadata": {},
     "output_type": "execute_result"
    }
   ],
   "source": [
    "re.findall(r'[0-9-[0-1]]', '123 5647 36') \n"
   ]
  },
  {
   "cell_type": "markdown",
   "metadata": {},
   "source": [
    "## Start of String and End of String Anchors\n",
    "\n",
    "- They do not match any character at all. \n",
    "- they match a position before, after, or between characters. \n",
    "- They can be used to “anchor” the regex match at a certain position. \n",
    "- the caret ^ matches the position before the first character in the string. \n",
    "- Applying __^a__ to __abc__ matches a. \n",
    "- __^b__ does not match __abc__ at all, because the b cannot be matched right after the start of the string, matched by ^.\n",
    "\n",
    "Similarly, \\$ matches right after the last character in the string. __c\\$__ matches __c__ in __abc__"
   ]
  },
  {
   "cell_type": "code",
   "execution_count": 22,
   "metadata": {},
   "outputs": [
    {
     "data": {
      "text/plain": [
       "['Data']"
      ]
     },
     "execution_count": 22,
     "metadata": {},
     "output_type": "execute_result"
    }
   ],
   "source": [
    "re.findall(r'^Data', 'Data Science Data mining') "
   ]
  },
  {
   "cell_type": "code",
   "execution_count": 23,
   "metadata": {},
   "outputs": [
    {
     "data": {
      "text/plain": [
       "['mining']"
      ]
     },
     "execution_count": 23,
     "metadata": {},
     "output_type": "execute_result"
    }
   ],
   "source": [
    "re.findall(r'mining$', 'Data mining Data mining') "
   ]
  },
  {
   "cell_type": "markdown",
   "metadata": {},
   "source": [
    "#### what happens when we try to match ^4$ to 749\\n486\\n4"
   ]
  },
  {
   "cell_type": "code",
   "execution_count": 24,
   "metadata": {},
   "outputs": [
    {
     "data": {
      "text/plain": [
       "<re.Match object; span=(0, 1), match='4'>"
      ]
     },
     "execution_count": 24,
     "metadata": {},
     "output_type": "execute_result"
    }
   ],
   "source": [
    "re.search(r'^4$', '4') "
   ]
  },
  {
   "cell_type": "code",
   "execution_count": 25,
   "metadata": {},
   "outputs": [],
   "source": [
    "re.search(r'^4$', '\\n4') "
   ]
  },
  {
   "cell_type": "code",
   "execution_count": 26,
   "metadata": {},
   "outputs": [],
   "source": [
    "re.search(r'^4$', '749\\n486\\n4 ') "
   ]
  },
  {
   "cell_type": "markdown",
   "metadata": {},
   "source": [
    "## Word Boundaries\n",
    "\n",
    "- The metacharacter __\\b__ is an anchor like the caret and the dollar sign. It matches at a position that is called a “word boundary”. \n",
    "\n",
    "- This match is zero-length.\n",
    "\n",
    "There are 3 different positions that qualify as word boundaries:\n",
    "\n",
    "- Before the first character in the string, if the first character is a word character.\n",
    "- After the last character in the string, if the last character is a word character.\n",
    "- Between two characters in the string, where one is a word character and the other is not a word character.\n",
    "\n",
    "Simply put: __\\b__ allows you to perform a __“whole words only”__ search using a regular expression in the form of __\\bword\\b__. \n",
    "\n",
    "A “word character” is a character that can be used to form words. All characters that are not “word characters” are “non-word characters”.\n",
    "\n",
    "Since digits are considered to be word characters, __\\b4\\b__ can be used to match a 4 that is not part of a larger number. This regex does not match __44 sheets of a4__. \n",
    "\n",
    "So saying __“\\b matches before and after an alphanumeric sequence”__ is more exact than saying “before and after a word”.\n",
    "\n",
    "__\\B__ is the __negated__ version of __\\b__. \n",
    "\n",
    "__\\B__ matches at every position where __\\b__ does not. \n",
    "\n",
    "> Effectively, __\\B__ matches at any position between two word characters as well as at any position between two non-word characters."
   ]
  },
  {
   "cell_type": "code",
   "execution_count": 27,
   "metadata": {},
   "outputs": [
    {
     "data": {
      "text/plain": [
       "<re.Match object; span=(19, 24), match='great'>"
      ]
     },
     "execution_count": 27,
     "metadata": {},
     "output_type": "execute_result"
    }
   ],
   "source": [
    "re.search(r'\\bgreat\\b', 'hellopopcorn.ai is great place to work, hail popcorn.ai') "
   ]
  },
  {
   "cell_type": "code",
   "execution_count": 28,
   "metadata": {},
   "outputs": [
    {
     "data": {
      "text/plain": [
       "['popcorn.ai']"
      ]
     },
     "execution_count": 28,
     "metadata": {},
     "output_type": "execute_result"
    }
   ],
   "source": [
    "re.findall(r'\\bpopcorn.ai\\b', 'hellopopcorn.ai is great place to work, hail popcorn.ai') "
   ]
  },
  {
   "cell_type": "code",
   "execution_count": 29,
   "metadata": {},
   "outputs": [
    {
     "data": {
      "text/plain": [
       "['4']"
      ]
     },
     "execution_count": 29,
     "metadata": {},
     "output_type": "execute_result"
    }
   ],
   "source": [
    "re.findall(r'\\b4\\b', '4 44 sheets of a4') "
   ]
  },
  {
   "cell_type": "markdown",
   "metadata": {},
   "source": [
    "## Alternation with The Vertical Bar or Pipe Symbol\n",
    "\n",
    "You can use alternation to match a single regular expression out of several possible regular expressions.\n",
    "\n",
    "If you want to search for the literal text __cat__ or __dog__, separate both options with a vertical bar or pipe symbol: __cat|dog__. \n",
    "\n",
    "If you want more options, simply expand the list: __cat|dog|mouse|fish__.\n",
    "\n",
    "The alternation operator has the lowest precedence of all regex operators. That is, it tells the regex engine to match either everything to the left of the vertical bar, or everything to the right of the vertical bar. If you want to limit the reach of the alternation, you need to use parentheses for grouping. If we want to improve the first example to match whole words only, we would need to use \\b(cat|dog)\\b. This tells the regex engine to find a word boundary, then either cat or dog, and then another word boundary. If we had omitted the parentheses then the regex engine would have searched for a word boundary followed by cat, or, dog followed by a word boundary."
   ]
  },
  {
   "cell_type": "code",
   "execution_count": 80,
   "metadata": {},
   "outputs": [
    {
     "name": "stdout",
     "output_type": "stream",
     "text": [
      "['airways', 'airplane', 'bomber']\n"
     ]
    }
   ],
   "source": [
    "s = 'airways aircraft airplane bomber'\n",
    "result = re.findall(r'(airways|airplane|bomber)', s)\n",
    "print (result)"
   ]
  },
  {
   "cell_type": "code",
   "execution_count": 81,
   "metadata": {},
   "outputs": [
    {
     "name": "stdout",
     "output_type": "stream",
     "text": [
      "[('airways', 'ways'), ('airplane', 'plane'), ('bomber', '')]\n"
     ]
    }
   ],
   "source": [
    "result2 = re.findall(r'(air(ways|plane)|bomber)', s)\n",
    "print (result2)\n"
   ]
  },
  {
   "cell_type": "code",
   "execution_count": 32,
   "metadata": {},
   "outputs": [
    {
     "name": "stdout",
     "output_type": "stream",
     "text": [
      "['airways', 'airplane', 'bomber']\n"
     ]
    }
   ],
   "source": [
    "result3 = re.findall(r'(air(?:ways|plane)|bomber)', s)\n",
    "print (result3)"
   ]
  },
  {
   "cell_type": "code",
   "execution_count": 33,
   "metadata": {},
   "outputs": [
    {
     "name": "stdout",
     "output_type": "stream",
     "text": [
      "['airways', 'airplane', 'bomber']\n"
     ]
    }
   ],
   "source": [
    "result3 = re.findall(r'(air(?:ways|plane)|bomber)', s)\n",
    "print (result3)"
   ]
  },
  {
   "cell_type": "markdown",
   "metadata": {},
   "source": [
    "## Optional Items\n",
    "The __question mark__ makes the preceding token in the regular expression optional. __colou?r__ matches both __colour__ and __color__. \n",
    "\n",
    "The question mark is called a quantifier.\n",
    "\n",
    "You can make several tokens optional by grouping them together using __parentheses__, and placing the question mark after the closing parenthesis. E.g.: __Nov(ember)?__ matches __Nov__ and __November__.\n",
    "\n",
    "You can write a regular expression that matches many alternatives by including more than one question mark. __Feb(ruary)? 23(rd)?__ matches __February 23rd__, __February 23__, __Feb 23rd__ and __Feb 23__.\n",
    "\n",
    "You can also use __curly braces__ to make something optional. \n",
    "\n",
    "__colou{0,1}r__ is the same as __colou?r__. "
   ]
  },
  {
   "cell_type": "code",
   "execution_count": 34,
   "metadata": {},
   "outputs": [
    {
     "data": {
      "text/plain": [
       "[('February', 'ruary', '23rd', 'rd'),\n",
       " ('February', 'ruary', '23', ''),\n",
       " ('Feb', '', '23rd', 'rd'),\n",
       " ('Feb', '', '23', '')]"
      ]
     },
     "execution_count": 34,
     "metadata": {},
     "output_type": "execute_result"
    }
   ],
   "source": [
    "re.findall(r'(Feb(ruary)?) (23(rd)?)', 'February 23rd February 23 Feb 23rd Feb 23')"
   ]
  },
  {
   "cell_type": "code",
   "execution_count": 35,
   "metadata": {},
   "outputs": [
    {
     "data": {
      "text/plain": [
       "[('1111', ' ricochet robots'), ('2', ' settlers of catan'), ('3', ' acquire')]"
      ]
     },
     "execution_count": 35,
     "metadata": {},
     "output_type": "execute_result"
    }
   ],
   "source": [
    "text = \"\"\"\n",
    "1111. ricochet robots\n",
    "2. settlers of catan\n",
    "3. acquire\n",
    "\"\"\"\n",
    "re.findall(r'^(\\d+)\\.(.*)$', text, re.MULTILINE)"
   ]
  },
  {
   "cell_type": "markdown",
   "metadata": {},
   "source": [
    "## Repetition with Star and Plus\n",
    "\n",
    "The __asterisk__ or __sta__ tells the engine to attempt to match the preceding token __zero__ or __more__ times. \n",
    "\n",
    "The __plus__ tells the engine to attempt to match the preceding token __once__ or __more__. \n",
    "\n",
    "__<[A-Za-z][A-Za-z0-9]*>__ matches an HTML tag without any attributes. \n",
    "\n",
    "- The angle brackets are literals. \n",
    "- The first character class matches a letter. \n",
    "- The second character class matches a letter or digit. \n",
    "- The __star__ repeats the second character class. Because we used the __star__, it’s OK if the second character class matches nothing. \n",
    "\n",
    "So our regex will match a tag like <B>\n",
    "    \n",
    "When matching <HTML>, the first character class will match H. The star will cause the second character class to be repeated 3 times, matching T, M and L with each step.\n",
    "    \n",
    "- \\+ 1 or more occurrences of the pattern to its left, e.g. 'i+' = one or more i's\n",
    "    \n",
    "- \\* 0 or more occurrences of the pattern to its left\n",
    "    \n",
    "- \\? match 0 or 1 occurrences of the pattern to its left"
   ]
  },
  {
   "cell_type": "code",
   "execution_count": 36,
   "metadata": {},
   "outputs": [],
   "source": [
    "text = '''\n",
    "Data\n",
    "li\n",
    "I like Data\n",
    "data science with Python\n",
    "Python is great for data science\n",
    "science\n",
    "ldatadatadata\n",
    "aaa\n",
    "aa\n",
    "aaaa\n",
    "ab\n",
    "abc\n",
    "abcc\n",
    "'''"
   ]
  },
  {
   "cell_type": "code",
   "execution_count": 37,
   "metadata": {},
   "outputs": [
    {
     "data": {
      "text/plain": [
       "['li', 'lik']"
      ]
     },
     "execution_count": 37,
     "metadata": {},
     "output_type": "execute_result"
    }
   ],
   "source": [
    "re.findall(r'lik*', text, re.MULTILINE)"
   ]
  },
  {
   "cell_type": "code",
   "execution_count": 38,
   "metadata": {},
   "outputs": [
    {
     "data": {
      "text/plain": [
       "['aaa', 'aaaa']"
      ]
     },
     "execution_count": 38,
     "metadata": {},
     "output_type": "execute_result"
    }
   ],
   "source": [
    "re.findall(r'aaa+', text, re.MULTILINE)"
   ]
  },
  {
   "cell_type": "code",
   "execution_count": 39,
   "metadata": {},
   "outputs": [
    {
     "data": {
      "text/plain": [
       "['abc', 'abcc']"
      ]
     },
     "execution_count": 39,
     "metadata": {},
     "output_type": "execute_result"
    }
   ],
   "source": [
    "re.findall(r'abc+', text, re.MULTILINE)"
   ]
  },
  {
   "cell_type": "code",
   "execution_count": 40,
   "metadata": {},
   "outputs": [
    {
     "data": {
      "text/plain": [
       "'Cooookie'"
      ]
     },
     "execution_count": 40,
     "metadata": {},
     "output_type": "execute_result"
    }
   ],
   "source": [
    "re.search(r'Co+kie', 'Cooookie').group()"
   ]
  },
  {
   "cell_type": "code",
   "execution_count": 41,
   "metadata": {},
   "outputs": [
    {
     "data": {
      "text/plain": [
       "'Caokie'"
      ]
     },
     "execution_count": 41,
     "metadata": {},
     "output_type": "execute_result"
    }
   ],
   "source": [
    "# Checks for any occurrence of a or o or both in the given sequence\n",
    "re.search(r'Ca*o*kie', 'Caokie').group()"
   ]
  },
  {
   "cell_type": "code",
   "execution_count": 42,
   "metadata": {},
   "outputs": [
    {
     "data": {
      "text/plain": [
       "'Caokie'"
      ]
     },
     "execution_count": 42,
     "metadata": {},
     "output_type": "execute_result"
    }
   ],
   "source": [
    "# Checks for exactly zero or one occurrence of  a or o or both in the given sequence\n",
    "re.search(r'Ca?o?kie', 'Caokie').group()"
   ]
  },
  {
   "cell_type": "markdown",
   "metadata": {},
   "source": [
    "## Limiting Repetition\n",
    "\n",
    "The syntax is __{min,max}__, where __min__ is zero or a positive integer number indicating the minimum number of matches, and __max__ is an integer equal to or greater than __min__ indicating the maximum number of matches. \n",
    "\n",
    "If the comma is present but max is omitted, the maximum number of matches is infinite. \n",
    "\n",
    "So \n",
    "- __{0,1}__ is the same as __?__, \n",
    "- __{0,} is the same as __*__, \n",
    "- __{1,}__ is the same as __+__. \n",
    "\n",
    "You could use \n",
    "\n",
    "- __\\b[1-9][0-9]{3}\\b__ to match a number between 1000 and 9999. \n",
    "- __\\b[1-9][0-9]{2,4}\\b__ matches a number between 100 and 99999.\n",
    "\n"
   ]
  },
  {
   "cell_type": "code",
   "execution_count": 43,
   "metadata": {},
   "outputs": [
    {
     "data": {
      "text/plain": [
       "<re.Match object; span=(1, 10), match='heeeeeeee'>"
      ]
     },
     "execution_count": 43,
     "metadata": {},
     "output_type": "execute_result"
    }
   ],
   "source": [
    "s = \"sheeeeeeeeple\"\n",
    "re.search(r\"he+\", s)"
   ]
  },
  {
   "cell_type": "code",
   "execution_count": 44,
   "metadata": {},
   "outputs": [],
   "source": [
    "text = '''\n",
    "Data\n",
    "li\n",
    "I like Data\n",
    "data science with Python\n",
    "Python is great for data science\n",
    "science\n",
    "ldatadatadata\n",
    "aaa\n",
    "aa\n",
    "aaaa\n",
    "ab\n",
    "abc\n",
    "abcc\n",
    "abccc\n",
    "'''"
   ]
  },
  {
   "cell_type": "code",
   "execution_count": 45,
   "metadata": {},
   "outputs": [
    {
     "data": {
      "text/plain": [
       "['aa', 'aa', 'aa', 'aa']"
      ]
     },
     "execution_count": 45,
     "metadata": {},
     "output_type": "execute_result"
    }
   ],
   "source": [
    "re.findall(r'a{2}', text, re.MULTILINE)"
   ]
  },
  {
   "cell_type": "code",
   "execution_count": 46,
   "metadata": {},
   "outputs": [
    {
     "data": {
      "text/plain": [
       "['abcc', 'abcc']"
      ]
     },
     "execution_count": 46,
     "metadata": {},
     "output_type": "execute_result"
    }
   ],
   "source": [
    "re.findall(r'abc{2}', text, re.MULTILINE)"
   ]
  },
  {
   "cell_type": "code",
   "execution_count": 47,
   "metadata": {},
   "outputs": [
    {
     "data": {
      "text/plain": [
       "['aaa', 'aa', 'aaaa']"
      ]
     },
     "execution_count": 47,
     "metadata": {},
     "output_type": "execute_result"
    }
   ],
   "source": [
    "re.findall(r'a{2,5}', text, re.MULTILINE)"
   ]
  },
  {
   "cell_type": "code",
   "execution_count": 48,
   "metadata": {},
   "outputs": [
    {
     "data": {
      "text/plain": [
       "['aaaa']"
      ]
     },
     "execution_count": 48,
     "metadata": {},
     "output_type": "execute_result"
    }
   ],
   "source": [
    "re.findall(r'a{4,}', text, re.MULTILINE)"
   ]
  },
  {
   "cell_type": "code",
   "execution_count": 49,
   "metadata": {},
   "outputs": [],
   "source": [
    "text = '''\n",
    "wazzzzzup\n",
    "wazzzup\n",
    "wazup\n",
    "'''"
   ]
  },
  {
   "cell_type": "code",
   "execution_count": 50,
   "metadata": {},
   "outputs": [
    {
     "data": {
      "text/plain": [
       "['wazzzzz', 'wazzz']"
      ]
     },
     "execution_count": 50,
     "metadata": {},
     "output_type": "execute_result"
    }
   ],
   "source": [
    "re.findall(r'waz{3,5}', text, re.MULTILINE)"
   ]
  },
  {
   "cell_type": "markdown",
   "metadata": {},
   "source": [
    "## Use Parentheses for Grouping and Capturing\n",
    "\n",
    "By placing part of a regular expression inside round brackets or parentheses, you can group that part of the regular expression together. This allows you to apply a quantifier to the entire group or to restrict alternation to part of the regex.\n",
    "\n",
    "Only parentheses can be used for grouping."
   ]
  },
  {
   "cell_type": "code",
   "execution_count": 51,
   "metadata": {},
   "outputs": [],
   "source": [
    "text = '''\n",
    "abcabca\n",
    "'''"
   ]
  },
  {
   "cell_type": "code",
   "execution_count": 52,
   "metadata": {},
   "outputs": [
    {
     "data": {
      "text/plain": [
       "[]"
      ]
     },
     "execution_count": 52,
     "metadata": {},
     "output_type": "execute_result"
    }
   ],
   "source": [
    "re.findall(r'(abc){3}', text, re.MULTILINE)"
   ]
  },
  {
   "cell_type": "code",
   "execution_count": 53,
   "metadata": {},
   "outputs": [
    {
     "data": {
      "text/plain": [
       "['abc']"
      ]
     },
     "execution_count": 53,
     "metadata": {},
     "output_type": "execute_result"
    }
   ],
   "source": [
    "re.findall(r'(abc){2,4}', text, re.MULTILINE)"
   ]
  },
  {
   "cell_type": "code",
   "execution_count": 54,
   "metadata": {},
   "outputs": [
    {
     "data": {
      "text/plain": [
       "['abc']"
      ]
     },
     "execution_count": 54,
     "metadata": {},
     "output_type": "execute_result"
    }
   ],
   "source": [
    "re.findall(r'(abc){2,}', text, re.MULTILINE)"
   ]
  },
  {
   "cell_type": "code",
   "execution_count": 55,
   "metadata": {},
   "outputs": [
    {
     "data": {
      "text/plain": [
       "['abc']"
      ]
     },
     "execution_count": 55,
     "metadata": {},
     "output_type": "execute_result"
    }
   ],
   "source": [
    "re.findall(r'(abc){2}', text, re.MULTILINE)"
   ]
  },
  {
   "cell_type": "code",
   "execution_count": 56,
   "metadata": {},
   "outputs": [
    {
     "name": "stdout",
     "output_type": "stream",
     "text": [
      "bhupen@popcorn-ai.com\n",
      "bhupen\n",
      "popcorn-ai.com\n"
     ]
    }
   ],
   "source": [
    "email_address = 'Please contact us at: bhupen@popcorn-ai.com'\n",
    "\n",
    "match = re.search(r'([\\w\\.-]+)@([\\w\\.-]+)', email_address)\n",
    "\n",
    "if match:\n",
    "    print(match.group()) # The whole matched text\n",
    "    print(match.group(1)) # The username (group 1)\n",
    "    print(match.group(2)) # The host (group 2)"
   ]
  },
  {
   "cell_type": "code",
   "execution_count": 57,
   "metadata": {},
   "outputs": [
    {
     "name": "stdout",
     "output_type": "stream",
     "text": [
      "Raman\n",
      "Kumar\n",
      "080-2856-1733\n"
     ]
    },
    {
     "data": {
      "text/plain": [
       "'Raman, Kumar, 080-2856-1733'"
      ]
     },
     "execution_count": 57,
     "metadata": {},
     "output_type": "execute_result"
    }
   ],
   "source": [
    "contactInfo = 'Raman, Kumar, 080-2856-1733'\n",
    "\n",
    "match = re.search(r'(\\w+), (\\w+), ([\\d-]+)', contactInfo)\n",
    "#match = re.search(r'(\\w+), (\\w+): (\\S+)', contactInfo)\n",
    "\n",
    "print(match.group(1))\n",
    "print(match.group(2))\n",
    "print(match.group(3))\n",
    "match.group(0)"
   ]
  },
  {
   "cell_type": "markdown",
   "metadata": {},
   "source": [
    "The reason that the group numbering starts with group 1 is because group 0 is reserved to hold the entire match"
   ]
  },
  {
   "cell_type": "code",
   "execution_count": 58,
   "metadata": {},
   "outputs": [
    {
     "name": "stdout",
     "output_type": "stream",
     "text": [
      "support@popcorn-ai.com\n",
      "support\n",
      "popcorn-ai.com\n"
     ]
    }
   ],
   "source": [
    "input_str    = 'purple support@popcorn-ai.com monkey dishwasher'\n",
    "result       = re.search(r'([\\w.-]+)@([\\w.-]+)', input_str)\n",
    "\n",
    "if result:\n",
    "    print (result.group() ) \n",
    "    print (result.group(1) ) \n",
    "    print (result.group(2) ) "
   ]
  },
  {
   "cell_type": "code",
   "execution_count": 59,
   "metadata": {},
   "outputs": [
    {
     "name": "stdout",
     "output_type": "stream",
     "text": [
      "match: June 24\n",
      "match: August 9\n",
      "match: Dec 12\n"
     ]
    }
   ],
   "source": [
    "input_str    = 'June 24, August 9, Dec 12'\n",
    "\n",
    "matches = re.findall(r\"[a-zA-Z]+ \\d+\", input_str)\n",
    "\n",
    "for match in matches:\n",
    "    print(\"match: %s\" % (match))"
   ]
  },
  {
   "cell_type": "markdown",
   "metadata": {},
   "source": [
    "To capture the specific months of each date "
   ]
  },
  {
   "cell_type": "code",
   "execution_count": 60,
   "metadata": {},
   "outputs": [
    {
     "name": "stdout",
     "output_type": "stream",
     "text": [
      "match: June\n",
      "match: August\n",
      "match: Dec\n"
     ]
    }
   ],
   "source": [
    "input_str    = 'June 24, August 9, Dec 12'\n",
    "\n",
    "matches = re.findall(r\"([a-zA-Z]+) \\d+\", input_str)\n",
    "\n",
    "for match in matches:\n",
    "    print(\"match: %s\" % (match))"
   ]
  },
  {
   "cell_type": "markdown",
   "metadata": {},
   "source": [
    "#### Grouping by Name\n",
    "\n",
    "Sometimes, especially when a regular expression has a lot of groups, it is impractical to address each group by its number. "
   ]
  },
  {
   "cell_type": "code",
   "execution_count": 61,
   "metadata": {},
   "outputs": [
    {
     "name": "stdout",
     "output_type": "stream",
     "text": [
      "Raman\n",
      "Kumar\n",
      "080-2856-1733\n"
     ]
    },
    {
     "data": {
      "text/plain": [
       "'Raman, Kumar, 080-2856-1733'"
      ]
     },
     "execution_count": 61,
     "metadata": {},
     "output_type": "execute_result"
    }
   ],
   "source": [
    "contactInfo = 'Raman, Kumar, 080-2856-1733'\n",
    "\n",
    "match = re.search(r'(?P<last>\\w+), (?P<first>\\w+), (?P<phone>\\S+)', contactInfo)\n",
    "\n",
    "print(match.group('last'))\n",
    "print(match.group('first'))\n",
    "print(match.group('phone'))\n",
    "match.group(0)"
   ]
  },
  {
   "cell_type": "markdown",
   "metadata": {},
   "source": [
    "Grouping can be used with the findall() method too, even though it doesn’t return match objects. Instead, findall() will return a list of tuples, where the Nth element of each tuple corresponds to the Nth group of the regex pattern:\n",
    "\n",
    "_However, named grouping doesn’t work when using the findall() method._"
   ]
  },
  {
   "cell_type": "code",
   "execution_count": 62,
   "metadata": {},
   "outputs": [
    {
     "data": {
      "text/plain": [
       "[('Raman', 'Kumar', '080-2856-1733')]"
      ]
     },
     "execution_count": 62,
     "metadata": {},
     "output_type": "execute_result"
    }
   ],
   "source": [
    "contactInfo = 'Raman, Kumar, 080-2856-1733'\n",
    "\n",
    "re.findall(r'(\\w+), (\\w+), (\\S+)', contactInfo)"
   ]
  },
  {
   "cell_type": "markdown",
   "metadata": {},
   "source": [
    "## Using Backreferences To Match The Same Text Again"
   ]
  },
  {
   "cell_type": "code",
   "execution_count": 63,
   "metadata": {},
   "outputs": [],
   "source": [
    "text = '''\n",
    "grrrrrreat\n",
    "coooooooooooooooooool\n",
    "awwwwwwwwwwwwwwwwwwsommmmmmmmmmmmmmmme\n",
    "looooooooooooooooooooooooovvvvvvvvvvvvvvvve\n",
    "'''"
   ]
  },
  {
   "cell_type": "code",
   "execution_count": 64,
   "metadata": {},
   "outputs": [
    {
     "data": {
      "text/plain": [
       "<re.Match object; span=(1, 5), match='rrrr'>"
      ]
     },
     "execution_count": 64,
     "metadata": {},
     "output_type": "execute_result"
    }
   ],
   "source": [
    "re.search(r'([a-zA-Z])\\1{3}', 'grrrrrreat')"
   ]
  },
  {
   "cell_type": "markdown",
   "metadata": {},
   "source": [
    "## Ex - repeating chars"
   ]
  },
  {
   "cell_type": "markdown",
   "metadata": {},
   "source": [
    "Let’s say you want to match a tag like __!abc!__ or __!123!__"
   ]
  },
  {
   "cell_type": "code",
   "execution_count": 65,
   "metadata": {},
   "outputs": [
    {
     "data": {
      "text/plain": [
       "['abc', '123']"
      ]
     },
     "execution_count": 65,
     "metadata": {},
     "output_type": "execute_result"
    }
   ],
   "source": [
    "input_str = '!abc! is great guy. 123 is great too, !123! is just cool'\n",
    "\n",
    "re.findall(r\"!(abc|123)!\", input_str)"
   ]
  },
  {
   "cell_type": "markdown",
   "metadata": {},
   "source": [
    "Now let’s say that the tag can contain multiple sequences of __abc__ and __123__, like __!abc123!__ or __!123abcabc!__."
   ]
  },
  {
   "cell_type": "code",
   "execution_count": 66,
   "metadata": {},
   "outputs": [
    {
     "data": {
      "text/plain": [
       "['123', 'abc', 'abc']"
      ]
     },
     "execution_count": 66,
     "metadata": {},
     "output_type": "execute_result"
    }
   ],
   "source": [
    "input_str = '!abc123! is great guy. !123abc! is great too, !123abcabc! is just cool'\n",
    "\n",
    "re.findall(r\"!(abc|123)+!\", input_str)"
   ]
  },
  {
   "cell_type": "markdown",
   "metadata": {},
   "source": [
    "This regular expression will indeed match these tags. However, DOES NOT our requirement to capture the tag’s label into the __capturing__ group.\n",
    "\n",
    "- When this regex matches !abc123!, the capturing group stores only 123. \n",
    "- When it matches !123abcabc!, it only stores abc."
   ]
  },
  {
   "cell_type": "markdown",
   "metadata": {},
   "source": [
    "regex engine applies __!(abc|123)+!__ to __!abc123!__\n",
    "\n",
    "- First, ! matches !. \n",
    "\n",
    "- The engine then enters the __capturing__ group. \n",
    "\n",
    "- It makes note that __capturing__ group #1 was entered when the engine reached the position between the first and second character in the subject string. The first token in the group is __abc__, which matches __abc__. \n",
    "\n",
    "- A match is found, so the second alternative isn’t tried. (The engine does store a backtracking position, but this won’t be used in this example.) \n",
    "\n",
    "- The engine now leaves the __capturing__ group. It makes note that capturing group #1 was exited when the engine reached the position between the 4th and 5th characters in the string.\n",
    "\n",
    "- After having exited from the group, the engine notices the __plus__. The plus is __greedy__, so the group is tried again. The engine enters the group again, and takes note that capturing group #1 was entered between the 4th and 5th characters in the string. \n",
    "\n",
    "- It also makes note that since the __plus__ is not possessive, it may be backtracked. That is, if the group cannot be matched a second time, that’s fine. In this backtracking note, the regex engine also saves the entrance and exit positions of the group during the previous iteration of the group.\n",
    "\n",
    "__abc__ fails to match __123__, but __123__ succeeds. \n",
    "\n",
    "The group is exited again. The exit position between characters 7 and 8 is stored."
   ]
  },
  {
   "cell_type": "code",
   "execution_count": 67,
   "metadata": {},
   "outputs": [
    {
     "data": {
      "text/plain": [
       "[('abc123', '123'), ('123abc', 'abc'), ('123abcabc', 'abc')]"
      ]
     },
     "execution_count": 67,
     "metadata": {},
     "output_type": "execute_result"
    }
   ],
   "source": [
    "input_str = '!abc123! is great guy. !123abc! is great too, !123abcabc! is just cool'\n",
    "\n",
    "re.findall(r\"!((abc|123)+)!\", input_str)"
   ]
  },
  {
   "cell_type": "code",
   "execution_count": null,
   "metadata": {},
   "outputs": [],
   "source": []
  },
  {
   "cell_type": "code",
   "execution_count": null,
   "metadata": {},
   "outputs": [],
   "source": []
  }
 ],
 "metadata": {
  "kernelspec": {
   "display_name": "Python 3",
   "language": "python",
   "name": "python3"
  },
  "language_info": {
   "codemirror_mode": {
    "name": "ipython",
    "version": 3
   },
   "file_extension": ".py",
   "mimetype": "text/x-python",
   "name": "python",
   "nbconvert_exporter": "python",
   "pygments_lexer": "ipython3",
   "version": "3.7.7"
  }
 },
 "nbformat": 4,
 "nbformat_minor": 4
}
